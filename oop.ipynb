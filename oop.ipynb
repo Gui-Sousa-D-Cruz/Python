{
 "cells": [
  {
   "attachments": {},
   "cell_type": "markdown",
   "metadata": {},
   "source": [
    "Sem orientação a objetos:"
   ]
  },
  {
   "cell_type": "code",
   "execution_count": null,
   "metadata": {},
   "outputs": [],
   "source": [
    "vendedor = 'Gui'\n",
    "vendas = 1000\n",
    "meta = 500\n",
    "\n",
    "if vendas >= meta:\n",
    "    print('Bateu a meta!')\n",
    "else:\n",
    "    print('Não bateu a meta!')"
   ]
  },
  {
   "attachments": {},
   "cell_type": "markdown",
   "metadata": {},
   "source": [
    "Com orientação a objetos:"
   ]
  },
  {
   "cell_type": "code",
   "execution_count": null,
   "metadata": {},
   "outputs": [],
   "source": [
    "class Vendedor():\n",
    "    def __init__(self, nome):\n",
    "        self.nome= nome\n",
    "        self.vendas=0\n",
    "    def venda(self, vendas):\n",
    "        self.vendas=vendas\n",
    "    def meta(self,meta):\n",
    "        self.meta = meta\n",
    "        \n",
    "    def info(self):\n",
    "        print(f'''Informações sobre o vendedor\n",
    "Nome do vendedor: {self.nome}\n",
    "Vendas: {self.vendas}\n",
    "Meta: {self.meta}''')\n",
    "        if self.vendas >= self.meta:\n",
    "            print(f'{self.nome} bateu a meta!')\n",
    "        else:\n",
    "            print(f'{self.nome} Não bateu a meta!')\n",
    "        \n",
    "        \n",
    "vendedor1 = Vendedor('Gui')\n",
    "vendedor1.venda(1000)\n",
    "vendedor1.meta(600)\n",
    "vendedor1.info()\n",
    "\n",
    "print('')\n",
    "\n",
    "vendedor2 = Vendedor('Duda')\n",
    "vendedor2.venda(2000)\n",
    "vendedor2.meta(600)\n",
    "vendedor2.info()\n",
    "\n",
    "print('')\n",
    "\n",
    "vendedor3 = Vendedor('Arthur')\n",
    "vendedor3.venda(500)\n",
    "vendedor3.meta(600)\n",
    "vendedor3.info()\n",
    "\n",
    "print('')"
   ]
  }
 ],
 "metadata": {
  "kernelspec": {
   "display_name": "Python 3",
   "language": "python",
   "name": "python3"
  },
  "language_info": {
   "codemirror_mode": {
    "name": "ipython",
    "version": 3
   },
   "file_extension": ".py",
   "mimetype": "text/x-python",
   "name": "python",
   "nbconvert_exporter": "python",
   "pygments_lexer": "ipython3",
   "version": "3.10.2"
  },
  "orig_nbformat": 4,
  "vscode": {
   "interpreter": {
    "hash": "b39b696dd1f05e3be327fa799154dacb071556fa5940d585f9482a06223cab0d"
   }
  }
 },
 "nbformat": 4,
 "nbformat_minor": 2
}
