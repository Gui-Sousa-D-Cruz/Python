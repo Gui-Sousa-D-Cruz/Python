{
 "cells": [
  {
   "cell_type": "markdown",
   "metadata": {},
   "source": [
    "<h1>Importações:</h1>"
   ]
  },
  {
   "cell_type": "code",
   "execution_count": 51,
   "metadata": {},
   "outputs": [],
   "source": [
    "import pygame\n",
    "from pygame.locals import *\n",
    "from sys import exit\n",
    "from random import randint"
   ]
  },
  {
   "cell_type": "markdown",
   "metadata": {},
   "source": [
    "\n",
    "<h2 style='font-size: 1em; font-weight: bold; text-align: center;'>Iniciação do pygame:</h2>"
   ]
  },
  {
   "cell_type": "code",
   "execution_count": 52,
   "metadata": {},
   "outputs": [
    {
     "data": {
      "text/plain": [
       "(5, 0)"
      ]
     },
     "execution_count": 52,
     "metadata": {},
     "output_type": "execute_result"
    }
   ],
   "source": [
    "pygame.init() "
   ]
  },
  {
   "cell_type": "markdown",
   "metadata": {},
   "source": [
    "<h2 style='font-size: 1em; font-weight: bold; text-align: center;'>Declaração de objetos:</h2> "
   ]
  },
  {
   "cell_type": "code",
   "execution_count": 53,
   "metadata": {},
   "outputs": [],
   "source": [
    "largura = 640\n",
    "altura = 480\n",
    "\n",
    "x_cobra = largura / 2 - 20\n",
    "y_cobra = altura / 2 - 25\n",
    "\n",
    "velocidade = 10\n",
    "x_controle = velocidade\n",
    "y_controle = 0\n",
    "\n",
    "\n",
    "x_maça = randint(40, 600)\n",
    "y_maça = randint(50, 430)\n",
    "\n",
    "fonte = pygame.font.SysFont('malgungothic', 40, True, False)\n",
    "pontos = 0\n",
    "\n",
    "relogio = pygame.time.Clock()\n",
    "\n",
    "lista_cobra = []\n",
    "comprimento_inicial = 5\n",
    "\n",
    "morreu = False"
   ]
  },
  {
   "cell_type": "markdown",
   "metadata": {},
   "source": [
    "<h2 style='font-size: 1em; font-weight: bold; text-align: center;'>Criação da tela:</h2> "
   ]
  },
  {
   "cell_type": "code",
   "execution_count": 54,
   "metadata": {},
   "outputs": [],
   "source": [
    "\n",
    "tela = pygame.display.set_mode((largura, altura))\n",
    "pygame.display.set_caption('Olá mundo!') "
   ]
  },
  {
   "cell_type": "markdown",
   "metadata": {},
   "source": [
    "<h2 style='font-size: 1em; font-weight: bold; color: red; text-align: center;'>Sons do jogo:</h2>"
   ]
  },
  {
   "cell_type": "code",
   "execution_count": 55,
   "metadata": {},
   "outputs": [],
   "source": [
    "pygame.mixer.music.set_volume(0.05)\n",
    "musica_fundo = pygame.mixer.music.load('fundo.mp3')\n",
    "pygame.mixer.music.play(-1)\n",
    "\n",
    "\n",
    "som_colisao = pygame.mixer.Sound('coin.wav')\n"
   ]
  },
  {
   "cell_type": "markdown",
   "metadata": {},
   "source": [
    "<h2 style='font-size: 1em; font-weight: bold; text-align: center;'>Funções:</h2> "
   ]
  },
  {
   "cell_type": "code",
   "execution_count": 56,
   "metadata": {},
   "outputs": [],
   "source": [
    "def aumenta_cobra(lista_cobra):\n",
    "    for xey in lista_cobra:\n",
    "        pygame.draw.rect(tela, (78,255,122), (xey[0], xey[1], 20, 20))\n",
    "\n",
    "def reiniciar_jogo():\n",
    "    global pontos, comprimento_inicial, x_cobra,y_cobra,lista_cabeça, lista_cobra,x_maça,y_maça,morreu\n",
    "    \n",
    "    pontos = 0 \n",
    "    comprimento_inicial = 5\n",
    "    x_cobra = largura/2\n",
    "    y_cobra = altura/2\n",
    "    lista_cobra = []\n",
    "    lista_cabeça = []\n",
    "    x_maça = randint(40, 600)\n",
    "    y_maça = randint(50, 430)\n",
    "    morreu = False\n"
   ]
  },
  {
   "cell_type": "markdown",
   "metadata": {},
   "source": [
    "<h1 style='text-align: center;'>Loop principal do game:</h1>"
   ]
  },
  {
   "cell_type": "code",
   "execution_count": 57,
   "metadata": {},
   "outputs": [
    {
     "ename": "SystemExit",
     "evalue": "",
     "output_type": "error",
     "traceback": [
      "An exception has occurred, use %tb to see the full traceback.\n",
      "\u001b[1;31mSystemExit\u001b[0m\n"
     ]
    }
   ],
   "source": [
    "while True: \n",
    "\n",
    "    relogio.tick(30)\n",
    "    tela.fill((255,255,255))\n",
    "    mensagem = f'Pontos: {pontos}'\n",
    "    texto_formatado = fonte.render(mensagem, True, (255, 79, 89))\n",
    "    for event in pygame.event.get(): \n",
    "        if event.type == QUIT:\n",
    "            pygame.quit()     \n",
    "            exit()\n",
    "        \n",
    "        if event.type == KEYDOWN:\n",
    "            if event.key == K_LEFT:\n",
    "                if x_controle == velocidade:\n",
    "                    pass\n",
    "                else:\n",
    "                    x_controle = -velocidade\n",
    "                    y_controle = 0\n",
    "            if event.key == K_RIGHT:\n",
    "                if x_controle == -velocidade:\n",
    "                    pass\n",
    "                else:\n",
    "                    x_controle = velocidade\n",
    "                    y_controle = 0\n",
    "            if event.key == K_DOWN:\n",
    "                if y_controle == -velocidade:\n",
    "                    pass\n",
    "                else:\n",
    "                    y_controle = velocidade\n",
    "                    x_controle = 0\n",
    "            if event.key == K_UP:\n",
    "                if y_controle == velocidade:\n",
    "                    pass\n",
    "                else:\n",
    "                    y_controle = -velocidade\n",
    "                    x_controle = 0\n",
    "        if event.type == KEYDOWN:\n",
    "            if event.key == K_SPACE:\n",
    "                reiniciar_jogo()\n",
    "                \n",
    "    x_cobra = x_cobra + x_controle\n",
    "    y_cobra = y_cobra + y_controle\n",
    "\n",
    "    cobra = pygame.draw.rect(tela, (78,255,122), (x_cobra, y_cobra, 20, 20)) \n",
    "    maça = pygame.draw.rect(tela, (179, 20, 29), (x_maça,y_maça,20,20))\n",
    "\n",
    "    if cobra.colliderect(maça):\n",
    "       x_maça = randint(40, 600)\n",
    "       y_maça = randint(50, 430)\n",
    "       pontos = pontos + 1\n",
    "       som_colisao.play()\n",
    "       comprimento_inicial = comprimento_inicial + 1\n",
    " \n",
    "    lista_cabeça = []\n",
    "    lista_cabeça.append(x_cobra)\n",
    "    lista_cabeça.append(y_cobra)\n",
    "\n",
    "    lista_cobra.append(lista_cabeça)\n",
    "\n",
    "    if lista_cobra.count(lista_cabeça) > 1:\n",
    "        fonte2 = pygame.font.SysFont('Arial', 20, True, False)\n",
    "        mensagem = 'Game over! Pressione R para jogar novamente'\n",
    "        texto_formatado = fonte2.render(mensagem, True, (0,0,0))\n",
    "        ret_texto = texto_formatado.get_rect()\n",
    "\n",
    "        morreu = True\n",
    "        while morreu:\n",
    "            tela.fill((255,255,255))\n",
    "            for event in pygame.event.get():\n",
    "                if event.type == QUIT:\n",
    "                    pygame.quit()\n",
    "                    exit()\n",
    "                if event.type == KEYDOWN:\n",
    "                    if event.key == K_r:\n",
    "                        reiniciar_jogo()\n",
    "            ret_texto.center = (largura//2, altura//2)            \n",
    "            tela.blit(texto_formatado, ret_texto)\n",
    "            pygame.display.update()\n",
    "\n",
    "    if x_cobra > largura:\n",
    "        x_cobra = 0 \n",
    "    if x_cobra < 0:\n",
    "        x_cobra = largura\n",
    "    if y_cobra < 0:\n",
    "        y_cobra = altura\n",
    "    if y_cobra > altura:\n",
    "        y_cobra = 0\n",
    "\n",
    "\n",
    "\n",
    "    if len(lista_cobra) > comprimento_inicial:\n",
    "        del lista_cobra[0]\n",
    "\n",
    "    aumenta_cobra(lista_cobra)\n",
    "\n",
    "    \n",
    "    tela.blit(texto_formatado, (430, 40))\n",
    "    pygame.display.update() "
   ]
  }
 ],
 "metadata": {
  "interpreter": {
   "hash": "afdfd6351651aebda6716cf82b24068b13fc59d204e569c9f914ace3262a6ff0"
  },
  "kernelspec": {
   "display_name": "Python 3.10.2 ('venv': venv)",
   "language": "python",
   "name": "python3"
  },
  "language_info": {
   "codemirror_mode": {
    "name": "ipython",
    "version": 3
   },
   "file_extension": ".py",
   "mimetype": "text/x-python",
   "name": "python",
   "nbconvert_exporter": "python",
   "pygments_lexer": "ipython3",
   "version": "3.10.2"
  }
 },
 "nbformat": 4,
 "nbformat_minor": 4
}
