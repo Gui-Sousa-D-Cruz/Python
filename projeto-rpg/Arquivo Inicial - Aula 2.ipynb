{
 "cells": [
  {
   "cell_type": "markdown",
   "metadata": {},
   "source": [
    "<h1>Importações:</h1>"
   ]
  },
  {
   "cell_type": "code",
   "execution_count": 1,
   "metadata": {},
   "outputs": [
    {
     "name": "stdout",
     "output_type": "stream",
     "text": [
      "pygame 2.1.2 (SDL 2.0.18, Python 3.10.2)\n",
      "Hello from the pygame community. https://www.pygame.org/contribute.html\n"
     ]
    }
   ],
   "source": [
    "import pygame\n",
    "from pygame.locals import *\n",
    "from sys import exit\n",
    "from random import randint"
   ]
  },
  {
   "cell_type": "markdown",
   "metadata": {},
   "source": [
    "Iniciação do pygame: <br>\n",
    "Declaração de objetos: <br>\n",
    "Criação da tela: <br>\n",
    "\n"
   ]
  },
  {
   "cell_type": "code",
   "execution_count": 2,
   "metadata": {},
   "outputs": [],
   "source": [
    "pygame.init() \n",
    "\n",
    "largura = 640\n",
    "altura = 480\n",
    "\n",
    "x = largura / 2 - 20\n",
    "y = altura / 2 - 25\n",
    "\n",
    "x_azul = randint(40, 600)\n",
    "y_azul = randint(50, 430)\n",
    "\n",
    "fonte = pygame.font.SysFont('Arial', 40, True, False)\n",
    "pontos = 0\n",
    "\n",
    "tela = pygame.display.set_mode((largura, altura))\n",
    "pygame.display.set_caption('Olá mundo!') \n",
    "relogio = pygame.time.Clock()"
   ]
  },
  {
   "cell_type": "markdown",
   "metadata": {},
   "source": [
    "<h1>Loop principal do game:</h1>"
   ]
  },
  {
   "cell_type": "code",
   "execution_count": 3,
   "metadata": {},
   "outputs": [
    {
     "ename": "SystemExit",
     "evalue": "",
     "output_type": "error",
     "traceback": [
      "An exception has occurred, use %tb to see the full traceback.\n",
      "\u001b[1;31mSystemExit\u001b[0m\n"
     ]
    },
    {
     "name": "stderr",
     "output_type": "stream",
     "text": [
      "c:\\Users\\ANETE\\AppData\\Local\\Programs\\Python\\Python310\\lib\\site-packages\\IPython\\core\\interactiveshell.py:3369: UserWarning: To exit: use 'exit', 'quit', or Ctrl-D.\n",
      "  warn(\"To exit: use 'exit', 'quit', or Ctrl-D.\", stacklevel=1)\n"
     ]
    }
   ],
   "source": [
    "while True: \n",
    "\n",
    "    relogio.tick(30)\n",
    "    tela.fill((0,0,0))\n",
    "    mensagem = f'Pontos: {pontos}'\n",
    "    texto_formatado = fonte.render(mensagem, True, (253, 58, 208))\n",
    "    for event in pygame.event.get(): \n",
    "        if event.type == QUIT:\n",
    "            pygame.quit()     \n",
    "            exit()\n",
    "        \n",
    "    if pygame.key.get_pressed()[K_a]:\n",
    "        x = x - 20\n",
    "    if pygame.key.get_pressed()[K_d]:\n",
    "        x = x + 20\n",
    "    if pygame.key.get_pressed()[K_w]:\n",
    "        y = y - 20\n",
    "    if pygame.key.get_pressed()[K_s]:\n",
    "        y = y + 20\n",
    "            \n",
    "    ret_ver = pygame.draw.rect(tela, (255,0,0), (x, y, 40, 50)) \n",
    "    ret_azu = pygame.draw.rect(tela, (0, 200, 200), (x_azul,y_azul,40,50))\n",
    "\n",
    "    if ret_ver.colliderect(ret_azu):\n",
    "       x_azul = randint(40, 600)\n",
    "       y_azul = randint(50, 430)\n",
    "       pontos = pontos + 1\n",
    " \n",
    "\n",
    "\n",
    "    tela.blit(texto_formatado, (430, 40))\n",
    "    pygame.display.update() "
   ]
  }
 ],
 "metadata": {
  "interpreter": {
   "hash": "b39b696dd1f05e3be327fa799154dacb071556fa5940d585f9482a06223cab0d"
  },
  "kernelspec": {
   "display_name": "Python 3.10.2 64-bit",
   "language": "python",
   "name": "python3"
  },
  "language_info": {
   "codemirror_mode": {
    "name": "ipython",
    "version": 3
   },
   "file_extension": ".py",
   "mimetype": "text/x-python",
   "name": "python",
   "nbconvert_exporter": "python",
   "pygments_lexer": "ipython3",
   "version": "3.10.2"
  }
 },
 "nbformat": 4,
 "nbformat_minor": 4
}
