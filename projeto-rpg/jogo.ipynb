{
 "cells": [
  {
   "cell_type": "markdown",
   "metadata": {},
   "source": [
    "<h1>Importações:</h1>"
   ]
  },
  {
   "cell_type": "code",
   "execution_count": 1,
   "metadata": {},
   "outputs": [
    {
     "name": "stdout",
     "output_type": "stream",
     "text": [
      "pygame 2.1.2 (SDL 2.0.18, Python 3.10.2)\n",
      "Hello from the pygame community. https://www.pygame.org/contribute.html\n"
     ]
    }
   ],
   "source": [
    "import pygame\n",
    "from pygame.locals import *\n",
    "from sys import exit\n",
    "from random import randint"
   ]
  },
  {
   "cell_type": "markdown",
   "metadata": {},
   "source": [
    "\n",
    "<h2 style='font-size: 1em; font-weight: bold; text-align: center;'>Iniciação do pygame:</h2>"
   ]
  },
  {
   "cell_type": "code",
   "execution_count": 2,
   "metadata": {},
   "outputs": [
    {
     "data": {
      "text/plain": [
       "(4, 1)"
      ]
     },
     "execution_count": 2,
     "metadata": {},
     "output_type": "execute_result"
    }
   ],
   "source": [
    "pygame.init() "
   ]
  },
  {
   "cell_type": "markdown",
   "metadata": {},
   "source": [
    "<h2 style='font-size: 1em; font-weight: bold; text-align: center;'>Declaração de objetos:</h2> "
   ]
  },
  {
   "cell_type": "code",
   "execution_count": 3,
   "metadata": {},
   "outputs": [],
   "source": [
    "largura = 640\n",
    "altura = 480\n",
    "\n",
    "x = largura / 2 - 20\n",
    "y = altura / 2 - 25\n",
    "\n",
    "x_azul = randint(40, 600)\n",
    "y_azul = randint(50, 430)\n",
    "\n",
    "fonte = pygame.font.SysFont('malgungothic', 40, True, False)\n",
    "pontos = 19\n",
    "\n",
    "relogio = pygame.time.Clock()"
   ]
  },
  {
   "cell_type": "markdown",
   "metadata": {},
   "source": [
    "<h2 style='font-size: 1em; font-weight: bold; text-align: center;'>Criação da tela:</h2> "
   ]
  },
  {
   "cell_type": "code",
   "execution_count": 4,
   "metadata": {},
   "outputs": [],
   "source": [
    "\n",
    "tela = pygame.display.set_mode((largura, altura))\n",
    "pygame.display.set_caption('Olá mundo!') "
   ]
  },
  {
   "cell_type": "markdown",
   "metadata": {},
   "source": [
    "<h2 style='font-size: 1em; font-weight: bold; color: red; text-align: center;'>Sons do jogo:</h2>"
   ]
  },
  {
   "cell_type": "code",
   "execution_count": 5,
   "metadata": {},
   "outputs": [
    {
     "ename": "error",
     "evalue": "mixer not initialized",
     "output_type": "error",
     "traceback": [
      "\u001b[1;31m---------------------------------------------------------------------------\u001b[0m",
      "\u001b[1;31merror\u001b[0m                                     Traceback (most recent call last)",
      "\u001b[1;32mc:\\Users\\ANETE\\Documents\\estudos\\python\\projeto-rpg\\jogo.ipynb Cell 10'\u001b[0m in \u001b[0;36m<cell line: 1>\u001b[1;34m()\u001b[0m\n\u001b[1;32m----> <a href='vscode-notebook-cell:/c%3A/Users/ANETE/Documents/estudos/python/projeto-rpg/jogo.ipynb#ch0000009?line=0'>1</a>\u001b[0m pygame\u001b[39m.\u001b[39;49mmixer\u001b[39m.\u001b[39;49mmusic\u001b[39m.\u001b[39;49mset_volume(\u001b[39m0.05\u001b[39;49m)\n\u001b[0;32m      <a href='vscode-notebook-cell:/c%3A/Users/ANETE/Documents/estudos/python/projeto-rpg/jogo.ipynb#ch0000009?line=1'>2</a>\u001b[0m musica_fundo \u001b[39m=\u001b[39m pygame\u001b[39m.\u001b[39mmixer\u001b[39m.\u001b[39mmusic\u001b[39m.\u001b[39mload(\u001b[39m'\u001b[39m\u001b[39mfundo.mp3\u001b[39m\u001b[39m'\u001b[39m)\n\u001b[0;32m      <a href='vscode-notebook-cell:/c%3A/Users/ANETE/Documents/estudos/python/projeto-rpg/jogo.ipynb#ch0000009?line=2'>3</a>\u001b[0m pygame\u001b[39m.\u001b[39mmixer\u001b[39m.\u001b[39mmusic\u001b[39m.\u001b[39mplay(\u001b[39m-\u001b[39m\u001b[39m1\u001b[39m)\n",
      "\u001b[1;31merror\u001b[0m: mixer not initialized"
     ]
    },
    {
     "ename": "",
     "evalue": "",
     "output_type": "error",
     "traceback": [
      "\u001b[1;31mThe Kernel crashed while executing code in the the current cell or a previous cell. Please review the code in the cell(s) to identify a possible cause of the failure. Click <a href='https://aka.ms/vscodeJupyterKernelCrash'>here</a> for more info. View Jupyter <a href='command:jupyter.viewOutput'>log</a> for further details."
     ]
    }
   ],
   "source": [
    "pygame.mixer.music.set_volume(0.05)\n",
    "musica_fundo = pygame.mixer.music.load('fundo.mp3')\n",
    "pygame.mixer.music.play(-1)\n",
    "\n",
    "som_colisao = pygame.mixer.Sound('coin.wav')\n"
   ]
  },
  {
   "cell_type": "markdown",
   "metadata": {},
   "source": [
    "<h1 style='text-align: center;'>Loop principal do game:</h1>"
   ]
  },
  {
   "cell_type": "code",
   "execution_count": null,
   "metadata": {},
   "outputs": [
    {
     "ename": "SystemExit",
     "evalue": "",
     "output_type": "error",
     "traceback": [
      "An exception has occurred, use %tb to see the full traceback.\n",
      "\u001b[1;31mSystemExit\u001b[0m\n"
     ]
    },
    {
     "name": "stderr",
     "output_type": "stream",
     "text": [
      "c:\\Users\\ANETE\\AppData\\Local\\Programs\\Python\\Python310\\lib\\site-packages\\IPython\\core\\interactiveshell.py:3369: UserWarning: To exit: use 'exit', 'quit', or Ctrl-D.\n",
      "  warn(\"To exit: use 'exit', 'quit', or Ctrl-D.\", stacklevel=1)\n"
     ]
    }
   ],
   "source": [
    "while True: \n",
    "\n",
    "    relogio.tick(30)\n",
    "    tela.fill((0,0,0))\n",
    "    mensagem = f'Pontos: {pontos}'\n",
    "    texto_formatado = fonte.render(mensagem, True, (253, 58, 208))\n",
    "    for event in pygame.event.get(): \n",
    "        if event.type == QUIT:\n",
    "            pygame.quit()     \n",
    "            exit()\n",
    "        \n",
    "    if pygame.key.get_pressed()[K_a]:\n",
    "        x = x - 20\n",
    "    if pygame.key.get_pressed()[K_d]:\n",
    "        x = x + 20\n",
    "    if pygame.key.get_pressed()[K_w]:\n",
    "        y = y - 20\n",
    "    if pygame.key.get_pressed()[K_s]:\n",
    "        y = y + 20\n",
    "            \n",
    "    ret_ver = pygame.draw.rect(tela, (255,0,0), (x, y, 40, 50)) \n",
    "    ret_azu = pygame.draw.rect(tela, (0, 200, 200), (x_azul,y_azul,40,50))\n",
    "\n",
    "    if ret_ver.colliderect(ret_azu):\n",
    "       x_azul = randint(40, 600)\n",
    "       y_azul = randint(50, 430)\n",
    "       pontos = pontos + 1\n",
    "       som_colisao.play()\n",
    " \n",
    "\n",
    "\n",
    "    tela.blit(texto_formatado, (430, 40))\n",
    "    pygame.display.update() "
   ]
  }
 ],
 "metadata": {
  "interpreter": {
   "hash": "b39b696dd1f05e3be327fa799154dacb071556fa5940d585f9482a06223cab0d"
  },
  "kernelspec": {
   "display_name": "Python 3.10.2 64-bit",
   "language": "python",
   "name": "python3"
  },
  "language_info": {
   "codemirror_mode": {
    "name": "ipython",
    "version": 3
   },
   "file_extension": ".py",
   "mimetype": "text/x-python",
   "name": "python",
   "nbconvert_exporter": "python",
   "pygments_lexer": "ipython3",
   "version": "3.10.2"
  }
 },
 "nbformat": 4,
 "nbformat_minor": 4
}
