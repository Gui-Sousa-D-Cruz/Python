{
 "cells": [
  {
   "cell_type": "markdown",
   "id": "9acbc885",
   "metadata": {},
   "source": [
    "# Integração Python + Excel\n",
    "\n",
    "### 2 formas:\n",
    "\n",
    "1. Pandas\n",
    "    - Mais usada no geral\n",
    "    - Trata o Excel como uma base de dados\n",
    "    - Faz o que quiser com o arquivo\n",
    "    - Pode desfazer a estrutura original do arquivo, caso queira editar\n",
    "    \n",
    "2. Openpyxl\n",
    "    - Trata o Excel como uma planilha mesmo que pode ter várias coisas\n",
    "    - Edita \"como se fosse um VBA\"\n",
    "    - Menos eficiente\n",
    "    - Mantém mais a estrutura original do arquivo, mas cuidado porque não necessariamente tudo, então tem que testar"
   ]
  },
  {
   "cell_type": "markdown",
   "id": "1da7f8d8",
   "metadata": {},
   "source": [
    "### Desafio\n",
    "\n",
    "- Temos uma planilha de produtos e serviços. Com o aumento de imposto sobre os serviços, temos que atualizar o preço dos produtos impactados pela mudança.\n",
    "\n",
    "Novo Multiplicador Imposto: 1.5"
   ]
  },
  {
   "cell_type": "code",
   "execution_count": null,
   "id": "79673b94",
   "metadata": {
    "scrolled": true
   },
   "outputs": [],
   "source": [
    "# pandas\n",
    "import pandas as pd\n",
    "\n",
    "#Le a planilha e armazena numa váriavel \n",
    "tabela = pd.read_excel('Produtos.xlsx')\n",
    "#Exibe a planlha\n",
    "display(tabela)"
   ]
  },
  {
   "cell_type": "code",
   "execution_count": null,
   "id": "03b62e36",
   "metadata": {},
   "outputs": [],
   "source": [
    "# Atualiza o dado desejado\n",
    "tabela.loc[tabela['Tipo']=='Serviço', 'Multiplicador Imposto'] = 1.5\n",
    "\n",
    "#Faz as contas nescessárias \n",
    "tabela['Preço Base Reais'] = tabela['Preço Base Original'] * tabela['Multiplicador Imposto']\n",
    "\n",
    "#Salva as alterações\n",
    "tabela.to_excel('ProdutosPandas.xlsx')\n",
    "\n",
    "\n"
   ]
  },
  {
   "cell_type": "code",
   "execution_count": 21,
   "id": "72efa318",
   "metadata": {},
   "outputs": [],
   "source": [
    "# openpyxl\n",
    "from openpyxl import Workbook, load_workbook\n",
    "\n",
    "#ler o arquivo e armazenar no programa\n",
    "planilha = load_workbook('Produtos.xlsx')\n",
    "#ler qual aba que é está ativa na planilha\n",
    "aba_ativa = planilha.active\n",
    "\n",
    "#Looping pra reconhecer a coluna que os dados vão ser alterados\n",
    "for celula in aba_ativa['C']:\n",
    "    #Altera os dados somente onde o tipo é Serviço\n",
    "    if celula.value == 'Serviço':\n",
    "        #Descobre e armazena qual linha o tipo é o desejado\n",
    "        linha = celula.row\n",
    "        #Modifica o dado desejado\n",
    "        aba_ativa[f'D{linha}'] = 1.5\n",
    "        \n",
    "#Salva o arquivo \n",
    "planilha.save('ProdutosOpen.xlsx')"
   ]
  }
 ],
 "metadata": {
  "kernelspec": {
   "display_name": "Python 3",
   "language": "python",
   "name": "python3"
  },
  "language_info": {
   "codemirror_mode": {
    "name": "ipython",
    "version": 3
   },
   "file_extension": ".py",
   "mimetype": "text/x-python",
   "name": "python",
   "nbconvert_exporter": "python",
   "pygments_lexer": "ipython3",
   "version": "3.10.2"
  }
 },
 "nbformat": 4,
 "nbformat_minor": 5
}
