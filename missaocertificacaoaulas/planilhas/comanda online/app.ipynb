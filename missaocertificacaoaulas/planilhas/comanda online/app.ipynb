{
 "cells": [
  {
   "attachments": {},
   "cell_type": "markdown",
   "metadata": {},
   "source": [
    "<h2>Importar biblioteca</h2>"
   ]
  },
  {
   "cell_type": "code",
   "execution_count": 1,
   "metadata": {},
   "outputs": [],
   "source": [
    "import pandas as pd\n",
    "import PySimpleGUI as sg"
   ]
  },
  {
   "attachments": {},
   "cell_type": "markdown",
   "metadata": {},
   "source": [
    "<h1>Tela</h1>"
   ]
  },
  {
   "cell_type": "code",
   "execution_count": 2,
   "metadata": {},
   "outputs": [],
   "source": [
    "\n",
    "def janela_1():\n",
    "    layout = [\n",
    "        [sg.Push(), sg.Text('Login'), sg.Push()],\n",
    "        [sg.Push(), sg.Button('Garçom 1',size=(15,2)), sg.Push(),sg.Button('Garçom 2',size=(15,2)), sg.Push()],\n",
    "        [sg.Push(), sg.Button('Garçom 3',size=(15,2)), sg.Push(),sg.Button('Garçom 4',size=(15,2)), sg.Push()]\n",
    "    ]\n",
    "    return sg.Window('Comanda', layout=layout, finalize=True)\n",
    "\n",
    "def janela_2():\n",
    "    layout = [\n",
    "        [sg.Push(), sg.Text(f'{user}'), sg.Push()],\n",
    "        [],\n",
    "        [],\n",
    "        [sg.Push(), sg.Text('Senha:'), sg.Push()],\n",
    "        [sg.Push(),sg.Input(k='senha'),sg.Push()],\n",
    "        [sg.Push(),sg.Button('Login'),sg.Push()]\n",
    "        \n",
    "    ]\n",
    "    return sg.Window('Comanda', layout=layout, finalize=True)\n",
    "    \n"
   ]
  },
  {
   "attachments": {},
   "cell_type": "markdown",
   "metadata": {},
   "source": [
    "<h2>Fazer 3 planilhas</h2>\n",
    "<p>Usuarios</p>\n",
    "<p>Preços</p>\n",
    "<p>Mesas</p>\n"
   ]
  },
  {
   "cell_type": "code",
   "execution_count": 3,
   "metadata": {},
   "outputs": [
    {
     "data": {
      "text/html": [
       "<div>\n",
       "<style scoped>\n",
       "    .dataframe tbody tr th:only-of-type {\n",
       "        vertical-align: middle;\n",
       "    }\n",
       "\n",
       "    .dataframe tbody tr th {\n",
       "        vertical-align: top;\n",
       "    }\n",
       "\n",
       "    .dataframe thead th {\n",
       "        text-align: right;\n",
       "    }\n",
       "</style>\n",
       "<table border=\"1\" class=\"dataframe\">\n",
       "  <thead>\n",
       "    <tr style=\"text-align: right;\">\n",
       "      <th></th>\n",
       "      <th>Login</th>\n",
       "      <th>Senha</th>\n",
       "    </tr>\n",
       "  </thead>\n",
       "  <tbody>\n",
       "    <tr>\n",
       "      <th>0</th>\n",
       "      <td>Garçom 1</td>\n",
       "      <td>12345</td>\n",
       "    </tr>\n",
       "    <tr>\n",
       "      <th>1</th>\n",
       "      <td>Garçom 2</td>\n",
       "      <td>54321</td>\n",
       "    </tr>\n",
       "    <tr>\n",
       "      <th>2</th>\n",
       "      <td>Garçom 3</td>\n",
       "      <td>122412</td>\n",
       "    </tr>\n",
       "    <tr>\n",
       "      <th>3</th>\n",
       "      <td>Garçom 4</td>\n",
       "      <td>132613</td>\n",
       "    </tr>\n",
       "  </tbody>\n",
       "</table>\n",
       "</div>"
      ],
      "text/plain": [
       "      Login   Senha\n",
       "0  Garçom 1   12345\n",
       "1  Garçom 2   54321\n",
       "2  Garçom 3  122412\n",
       "3  Garçom 4  132613"
      ]
     },
     "metadata": {},
     "output_type": "display_data"
    }
   ],
   "source": [
    "login = pd.read_excel('login.xlsx')\n",
    "display(login)\n"
   ]
  },
  {
   "attachments": {},
   "cell_type": "markdown",
   "metadata": {},
   "source": [
    "<h2>Tela de login</h2>\n",
    "<p>Escolha de usuario</p>\n",
    "<p>conferir se login e senha batem </p>\n"
   ]
  },
  {
   "attachments": {},
   "cell_type": "markdown",
   "metadata": {},
   "source": [
    "<h1>Loop Principal</h1>"
   ]
  },
  {
   "cell_type": "code",
   "execution_count": 4,
   "metadata": {},
   "outputs": [
    {
     "name": "stdout",
     "output_type": "stream",
     "text": [
      "-=-=-=-=-=-=-=-=-=-=-=-=\n",
      "Contador: 1\n",
      "-=-=-=-=-=-=-=-=-=-=-=-=\n",
      "Login    Garçom 2\n",
      "Senha       54321\n",
      "Name: 1, dtype: object\n",
      "-=-=-=-=-=-=-=-=-=-=-=-=\n",
      "-=-=-=-=-=-=-=-=-=-=-=-=\n",
      "Contador: 1\n",
      "-=-=-=-=-=-=-=-=-=-=-=-=\n",
      "Login    Garçom 2\n",
      "Senha       54321\n",
      "Name: 1, dtype: object\n",
      "-=-=-=-=-=-=-=-=-=-=-=-=\n",
      "-=-=-=-=-=-=-=-=-=-=-=-=\n",
      "Contador: 1\n",
      "-=-=-=-=-=-=-=-=-=-=-=-=\n",
      "Login    Garçom 2\n",
      "Senha       54321\n",
      "Name: 1, dtype: object\n",
      "-=-=-=-=-=-=-=-=-=-=-=-=\n"
     ]
    }
   ],
   "source": [
    "\n",
    "janela1 = janela_1()\n",
    "janela2 = None\n",
    "\n",
    "while True:\n",
    "    \n",
    "    janela,evento,valor = sg.read_all_windows()\n",
    "    \n",
    "    if evento == sg.WIN_CLOSED:\n",
    "        janela.close()\n",
    "        break\n",
    "    if evento == 'Garçom 1':\n",
    "        user = evento\n",
    "        janela2=janela_2()\n",
    "        janela1.hide()\n",
    "    if evento == 'Garçom 2':\n",
    "        user = evento\n",
    "        janela2=janela_2()\n",
    "        janela1.hide()\n",
    "    if evento == 'Garçom 3':\n",
    "        user = evento\n",
    "        janela2=janela_2()\n",
    "        janela1.hide()\n",
    "    if evento == 'Garçom 4':\n",
    "        user = evento\n",
    "        janela2=janela_2()\n",
    "        janela1.hide()\n",
    "    if evento == 'Login':\n",
    "        s = valor['senha']\n",
    "        if s == '':\n",
    "            sg.popup('Digite uma senha válida!')\n",
    "        else:\n",
    "            senha = int(s)\n",
    "        \n",
    "        c = 1\n",
    "        cont = c\n",
    "        autent = login.loc[cont]\n",
    "        aut_user = autent[0]\n",
    "        aut_senha = autent[1]\n",
    "        \n",
    "        print('-='*12)\n",
    "        print(f'Contador: {cont}')\n",
    "        \n",
    "        print('-='*12)\n",
    "        print(autent)\n",
    "        print('-='*12)\n",
    "        \n",
    "        '''print(c, aut_user, aut_senha)\n",
    "        print('-='*12)\n",
    "        print(c, user, senha)\n",
    "        print('-='*12)'''\n",
    "    \n",
    "                \n",
    "        \n",
    "                    \n",
    "            \n",
    "\n",
    "            \n",
    "            \n",
    "            "
   ]
  }
 ],
 "metadata": {
  "kernelspec": {
   "display_name": "Python 3",
   "language": "python",
   "name": "python3"
  },
  "language_info": {
   "codemirror_mode": {
    "name": "ipython",
    "version": 3
   },
   "file_extension": ".py",
   "mimetype": "text/x-python",
   "name": "python",
   "nbconvert_exporter": "python",
   "pygments_lexer": "ipython3",
   "version": "3.10.2"
  },
  "orig_nbformat": 4
 },
 "nbformat": 4,
 "nbformat_minor": 2
}
