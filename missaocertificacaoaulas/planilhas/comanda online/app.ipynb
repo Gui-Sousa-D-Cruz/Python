{
 "cells": [
  {
   "attachments": {},
   "cell_type": "markdown",
   "metadata": {},
   "source": [
    "<h2>Importar biblioteca</h2>"
   ]
  },
  {
   "cell_type": "code",
   "execution_count": 1,
   "metadata": {},
   "outputs": [],
   "source": [
    "import pandas as pd\n",
    "import PySimpleGUI as sg"
   ]
  },
  {
   "attachments": {},
   "cell_type": "markdown",
   "metadata": {},
   "source": [
    "<h1>Tela</h1>"
   ]
  },
  {
   "cell_type": "code",
   "execution_count": 2,
   "metadata": {},
   "outputs": [],
   "source": [
    "\n",
    "def janela_1():\n",
    "    layout = [\n",
    "        [sg.Push(), sg.Text('Login'), sg.Push()],\n",
    "        [sg.Push(), sg.Button('Garçom 1',size=(15,2)), sg.Push(),sg.Button('Garçom 2',size=(15,2)), sg.Push()],\n",
    "        [sg.Push(), sg.Button('Garçom 3',size=(15,2)), sg.Push(),sg.Button('Garçom 4',size=(15,2)), sg.Push()]\n",
    "    ]\n",
    "    return sg.Window('Comanda', layout=layout, finalize=True)\n",
    "\n",
    "def janela_2():\n",
    "    layout = [\n",
    "        [sg.Push(), sg.Text(f'{user}'), sg.Push()],\n",
    "        [],\n",
    "        [],\n",
    "        [sg.Push(), sg.Text('Senha:'), sg.Push()],\n",
    "        [sg.Push(),sg.Input(k='senha'),sg.Push()],\n",
    "        [sg.Push(),sg.Button('Login'),sg.Push()]\n",
    "        \n",
    "    ]\n",
    "    return sg.Window('Comanda', layout=layout, finalize=True)\n",
    "    \n"
   ]
  },
  {
   "attachments": {},
   "cell_type": "markdown",
   "metadata": {},
   "source": [
    "<h2>Fazer 3 planilhas</h2>\n",
    "<p>Usuarios</p>\n",
    "<p>Preços</p>\n",
    "<p>Mesas</p>\n"
   ]
  },
  {
   "cell_type": "code",
   "execution_count": 3,
   "metadata": {},
   "outputs": [
    {
     "data": {
      "text/html": [
       "<div>\n",
       "<style scoped>\n",
       "    .dataframe tbody tr th:only-of-type {\n",
       "        vertical-align: middle;\n",
       "    }\n",
       "\n",
       "    .dataframe tbody tr th {\n",
       "        vertical-align: top;\n",
       "    }\n",
       "\n",
       "    .dataframe thead th {\n",
       "        text-align: right;\n",
       "    }\n",
       "</style>\n",
       "<table border=\"1\" class=\"dataframe\">\n",
       "  <thead>\n",
       "    <tr style=\"text-align: right;\">\n",
       "      <th></th>\n",
       "      <th>Login</th>\n",
       "      <th>Senha</th>\n",
       "    </tr>\n",
       "  </thead>\n",
       "  <tbody>\n",
       "    <tr>\n",
       "      <th>0</th>\n",
       "      <td>Garçom 1</td>\n",
       "      <td>12345</td>\n",
       "    </tr>\n",
       "    <tr>\n",
       "      <th>1</th>\n",
       "      <td>Garçom 2</td>\n",
       "      <td>54321</td>\n",
       "    </tr>\n",
       "    <tr>\n",
       "      <th>2</th>\n",
       "      <td>Garçom 3</td>\n",
       "      <td>122412</td>\n",
       "    </tr>\n",
       "    <tr>\n",
       "      <th>3</th>\n",
       "      <td>Garçom 4</td>\n",
       "      <td>132613</td>\n",
       "    </tr>\n",
       "  </tbody>\n",
       "</table>\n",
       "</div>"
      ],
      "text/plain": [
       "      Login   Senha\n",
       "0  Garçom 1   12345\n",
       "1  Garçom 2   54321\n",
       "2  Garçom 3  122412\n",
       "3  Garçom 4  132613"
      ]
     },
     "metadata": {},
     "output_type": "display_data"
    }
   ],
   "source": [
    "login = pd.read_excel('login.xlsx')\n",
    "display(login)\n"
   ]
  },
  {
   "attachments": {},
   "cell_type": "markdown",
   "metadata": {},
   "source": [
    "<h2>Tela de login</h2>\n",
    "<p>Escolha de usuario</p>\n",
    "<p>conferir se login e senha batem </p>\n"
   ]
  },
  {
   "attachments": {},
   "cell_type": "markdown",
   "metadata": {},
   "source": [
    "<h1>Loop Principal</h1>"
   ]
  },
  {
   "cell_type": "code",
   "execution_count": 4,
   "metadata": {},
   "outputs": [
    {
     "ename": "KeyError",
     "evalue": "-1",
     "output_type": "error",
     "traceback": [
      "\u001b[1;31m---------------------------------------------------------------------------\u001b[0m",
      "\u001b[1;31mValueError\u001b[0m                                Traceback (most recent call last)",
      "File \u001b[1;32mc:\\Users\\ANETE\\AppData\\Local\\Programs\\Python\\Python310\\lib\\site-packages\\pandas\\core\\indexes\\range.py:345\u001b[0m, in \u001b[0;36mRangeIndex.get_loc\u001b[1;34m(self, key)\u001b[0m\n\u001b[0;32m    344\u001b[0m \u001b[39mtry\u001b[39;00m:\n\u001b[1;32m--> 345\u001b[0m     \u001b[39mreturn\u001b[39;00m \u001b[39mself\u001b[39;49m\u001b[39m.\u001b[39;49m_range\u001b[39m.\u001b[39;49mindex(new_key)\n\u001b[0;32m    346\u001b[0m \u001b[39mexcept\u001b[39;00m \u001b[39mValueError\u001b[39;00m \u001b[39mas\u001b[39;00m err:\n",
      "\u001b[1;31mValueError\u001b[0m: -1 is not in range",
      "\nThe above exception was the direct cause of the following exception:\n",
      "\u001b[1;31mKeyError\u001b[0m                                  Traceback (most recent call last)",
      "\u001b[1;32mc:\\Users\\ANETE\\Documents\\estudos\\python\\missaocertificacaoaulas\\planilhas\\comanda online\\app.ipynb Célula 9\u001b[0m in \u001b[0;36m<cell line: 4>\u001b[1;34m()\u001b[0m\n\u001b[0;32m     <a href='vscode-notebook-cell:/c%3A/Users/ANETE/Documents/estudos/python/missaocertificacaoaulas/planilhas/comanda%20online/app.ipynb#X11sZmlsZQ%3D%3D?line=33'>34</a>\u001b[0m \u001b[39melse\u001b[39;00m:\n\u001b[0;32m     <a href='vscode-notebook-cell:/c%3A/Users/ANETE/Documents/estudos/python/missaocertificacaoaulas/planilhas/comanda%20online/app.ipynb#X11sZmlsZQ%3D%3D?line=34'>35</a>\u001b[0m     cont \u001b[39m=\u001b[39m c \u001b[39m-\u001b[39m \u001b[39m1\u001b[39m\n\u001b[1;32m---> <a href='vscode-notebook-cell:/c%3A/Users/ANETE/Documents/estudos/python/missaocertificacaoaulas/planilhas/comanda%20online/app.ipynb#X11sZmlsZQ%3D%3D?line=35'>36</a>\u001b[0m autent \u001b[39m=\u001b[39m login\u001b[39m.\u001b[39;49mloc[cont \u001b[39m-\u001b[39;49m \u001b[39m1\u001b[39;49m]\n\u001b[0;32m     <a href='vscode-notebook-cell:/c%3A/Users/ANETE/Documents/estudos/python/missaocertificacaoaulas/planilhas/comanda%20online/app.ipynb#X11sZmlsZQ%3D%3D?line=36'>37</a>\u001b[0m aut_user \u001b[39m=\u001b[39m autent[\u001b[39m0\u001b[39m]\n\u001b[0;32m     <a href='vscode-notebook-cell:/c%3A/Users/ANETE/Documents/estudos/python/missaocertificacaoaulas/planilhas/comanda%20online/app.ipynb#X11sZmlsZQ%3D%3D?line=37'>38</a>\u001b[0m aut_senha \u001b[39m=\u001b[39m \u001b[39mint\u001b[39m(autent[\u001b[39m1\u001b[39m])\n",
      "File \u001b[1;32mc:\\Users\\ANETE\\AppData\\Local\\Programs\\Python\\Python310\\lib\\site-packages\\pandas\\core\\indexing.py:1103\u001b[0m, in \u001b[0;36m_LocationIndexer.__getitem__\u001b[1;34m(self, key)\u001b[0m\n\u001b[0;32m   1100\u001b[0m axis \u001b[39m=\u001b[39m \u001b[39mself\u001b[39m\u001b[39m.\u001b[39maxis \u001b[39mor\u001b[39;00m \u001b[39m0\u001b[39m\n\u001b[0;32m   1102\u001b[0m maybe_callable \u001b[39m=\u001b[39m com\u001b[39m.\u001b[39mapply_if_callable(key, \u001b[39mself\u001b[39m\u001b[39m.\u001b[39mobj)\n\u001b[1;32m-> 1103\u001b[0m \u001b[39mreturn\u001b[39;00m \u001b[39mself\u001b[39;49m\u001b[39m.\u001b[39;49m_getitem_axis(maybe_callable, axis\u001b[39m=\u001b[39;49maxis)\n",
      "File \u001b[1;32mc:\\Users\\ANETE\\AppData\\Local\\Programs\\Python\\Python310\\lib\\site-packages\\pandas\\core\\indexing.py:1343\u001b[0m, in \u001b[0;36m_LocIndexer._getitem_axis\u001b[1;34m(self, key, axis)\u001b[0m\n\u001b[0;32m   1341\u001b[0m \u001b[39m# fall thru to straight lookup\u001b[39;00m\n\u001b[0;32m   1342\u001b[0m \u001b[39mself\u001b[39m\u001b[39m.\u001b[39m_validate_key(key, axis)\n\u001b[1;32m-> 1343\u001b[0m \u001b[39mreturn\u001b[39;00m \u001b[39mself\u001b[39;49m\u001b[39m.\u001b[39;49m_get_label(key, axis\u001b[39m=\u001b[39;49maxis)\n",
      "File \u001b[1;32mc:\\Users\\ANETE\\AppData\\Local\\Programs\\Python\\Python310\\lib\\site-packages\\pandas\\core\\indexing.py:1293\u001b[0m, in \u001b[0;36m_LocIndexer._get_label\u001b[1;34m(self, label, axis)\u001b[0m\n\u001b[0;32m   1291\u001b[0m \u001b[39mdef\u001b[39;00m \u001b[39m_get_label\u001b[39m(\u001b[39mself\u001b[39m, label, axis: AxisInt):\n\u001b[0;32m   1292\u001b[0m     \u001b[39m# GH#5567 this will fail if the label is not present in the axis.\u001b[39;00m\n\u001b[1;32m-> 1293\u001b[0m     \u001b[39mreturn\u001b[39;00m \u001b[39mself\u001b[39;49m\u001b[39m.\u001b[39;49mobj\u001b[39m.\u001b[39;49mxs(label, axis\u001b[39m=\u001b[39;49maxis)\n",
      "File \u001b[1;32mc:\\Users\\ANETE\\AppData\\Local\\Programs\\Python\\Python310\\lib\\site-packages\\pandas\\core\\generic.py:4095\u001b[0m, in \u001b[0;36mNDFrame.xs\u001b[1;34m(self, key, axis, level, drop_level)\u001b[0m\n\u001b[0;32m   4093\u001b[0m             new_index \u001b[39m=\u001b[39m index[loc]\n\u001b[0;32m   4094\u001b[0m \u001b[39melse\u001b[39;00m:\n\u001b[1;32m-> 4095\u001b[0m     loc \u001b[39m=\u001b[39m index\u001b[39m.\u001b[39;49mget_loc(key)\n\u001b[0;32m   4097\u001b[0m     \u001b[39mif\u001b[39;00m \u001b[39misinstance\u001b[39m(loc, np\u001b[39m.\u001b[39mndarray):\n\u001b[0;32m   4098\u001b[0m         \u001b[39mif\u001b[39;00m loc\u001b[39m.\u001b[39mdtype \u001b[39m==\u001b[39m np\u001b[39m.\u001b[39mbool_:\n",
      "File \u001b[1;32mc:\\Users\\ANETE\\AppData\\Local\\Programs\\Python\\Python310\\lib\\site-packages\\pandas\\core\\indexes\\range.py:347\u001b[0m, in \u001b[0;36mRangeIndex.get_loc\u001b[1;34m(self, key)\u001b[0m\n\u001b[0;32m    345\u001b[0m         \u001b[39mreturn\u001b[39;00m \u001b[39mself\u001b[39m\u001b[39m.\u001b[39m_range\u001b[39m.\u001b[39mindex(new_key)\n\u001b[0;32m    346\u001b[0m     \u001b[39mexcept\u001b[39;00m \u001b[39mValueError\u001b[39;00m \u001b[39mas\u001b[39;00m err:\n\u001b[1;32m--> 347\u001b[0m         \u001b[39mraise\u001b[39;00m \u001b[39mKeyError\u001b[39;00m(key) \u001b[39mfrom\u001b[39;00m \u001b[39merr\u001b[39;00m\n\u001b[0;32m    348\u001b[0m \u001b[39mself\u001b[39m\u001b[39m.\u001b[39m_check_indexing_error(key)\n\u001b[0;32m    349\u001b[0m \u001b[39mraise\u001b[39;00m \u001b[39mKeyError\u001b[39;00m(key)\n",
      "\u001b[1;31mKeyError\u001b[0m: -1"
     ]
    },
    {
     "ename": "",
     "evalue": "",
     "output_type": "error",
     "traceback": [
      "\u001b[1;31mO Kernel falhou ao executar o código na célula atual ou em uma célula anterior. Examine o código nas células para identificar uma possível causa da falha. Clique <a href=\"https://aka.ms/vscodeJupyterKernelCrash\">aqui</a> para obter mais informações. Consulte o <a href='command:jupyter.viewOutput'>log</a> do Jupyter para obter mais detalhes."
     ]
    }
   ],
   "source": [
    "\n",
    "janela1 = janela_1()\n",
    "janela2 = None\n",
    "\n",
    "while True:\n",
    "    \n",
    "    janela,evento,valor = sg.read_all_windows()\n",
    "    \n",
    "    if evento == sg.WIN_CLOSED:\n",
    "        janela.close()\n",
    "        break\n",
    "    if evento == 'Garçom 1':\n",
    "        user = evento\n",
    "        janela2=janela_2()\n",
    "        janela1.hide()\n",
    "    if evento == 'Garçom 2':\n",
    "        user = evento\n",
    "        janela2=janela_2()\n",
    "        janela1.hide()\n",
    "    if evento == 'Garçom 3':\n",
    "        user = evento\n",
    "        janela2=janela_2()\n",
    "        janela1.hide()\n",
    "    if evento == 'Garçom 4':\n",
    "        user = evento\n",
    "        janela2=janela_2()\n",
    "        janela1.hide()\n",
    "    if evento == 'Login':\n",
    "        senha = int(valor['senha'])\n",
    "        \n",
    "        c = 0\n",
    "        while True:\n",
    "            if c == 0:\n",
    "                cont = c\n",
    "            else:\n",
    "                cont = c - 1\n",
    "            autent = login.loc[cont - 1]\n",
    "            aut_user = autent[0]\n",
    "            aut_senha = int(autent[1])\n",
    "            print('-='*12)\n",
    "            print(f'Contador: {cont}')\n",
    "            '''print(autent)\n",
    "            print(c, aut_user, aut_senha)\n",
    "            print(c, user, senha)'''\n",
    "            print('-='*12)\n",
    "            \n",
    "            if aut_user == user and aut_senha == senha:\n",
    "                print('Logado com sucesso!')\n",
    "                break\n",
    "            elif c < (login.shape[0] - 1) and aut_user != user or aut_senha != senha:\n",
    "                c += 1\n",
    "            else:\n",
    "                sg.popup('Login ou senha inválidos')\n",
    "                break\n",
    "    \n",
    "                \n",
    "        \n",
    "                    \n",
    "            \n",
    "\n",
    "            \n",
    "            \n",
    "            "
   ]
  }
 ],
 "metadata": {
  "kernelspec": {
   "display_name": "Python 3",
   "language": "python",
   "name": "python3"
  },
  "language_info": {
   "codemirror_mode": {
    "name": "ipython",
    "version": 3
   },
   "file_extension": ".py",
   "mimetype": "text/x-python",
   "name": "python",
   "nbconvert_exporter": "python",
   "pygments_lexer": "ipython3",
   "version": "3.10.2"
  },
  "orig_nbformat": 4
 },
 "nbformat": 4,
 "nbformat_minor": 2
}
