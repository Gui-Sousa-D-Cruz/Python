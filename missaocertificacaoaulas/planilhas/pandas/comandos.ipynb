{
 "cells": [
  {
   "attachments": {},
   "cell_type": "markdown",
   "metadata": {},
   "source": [
    "Importando o pandas\n"
   ]
  },
  {
   "cell_type": "code",
   "execution_count": 2,
   "metadata": {},
   "outputs": [],
   "source": [
    "import pandas as pd"
   ]
  },
  {
   "attachments": {},
   "cell_type": "markdown",
   "metadata": {},
   "source": [
    "Criando um dataframe a partir de um dicionário"
   ]
  },
  {
   "cell_type": "code",
   "execution_count": 8,
   "metadata": {},
   "outputs": [],
   "source": [
    "#dataframe é uma tabela dentro do python\n",
    "#dataframe = pd.DataFrame()\n",
    "venda = {'Data': ['01/01/2023','01/01/2023'],\n",
    "         'Valor':[500,300],\n",
    "         'Produto':['Feijão', 'Arroz'],\n",
    "         'Quantidade': [50,70]\n",
    "}\n",
    "\n",
    "df_vendas = pd.DataFrame(venda) "
   ]
  },
  {
   "attachments": {},
   "cell_type": "markdown",
   "metadata": {},
   "source": [
    "Vizualização dos Dados\n",
    "    <br>-Print\n",
    "    <br>-Display"
   ]
  },
  {
   "cell_type": "code",
   "execution_count": null,
   "metadata": {},
   "outputs": [],
   "source": [
    "print('Print:')\n",
    "print(df_vendas)\n",
    "print('')\n",
    "print('Display:')\n",
    "display(df_vendas)"
   ]
  },
  {
   "attachments": {},
   "cell_type": "markdown",
   "metadata": {},
   "source": [
    "Importando arquivos e bases de dados"
   ]
  },
  {
   "cell_type": "code",
   "execution_count": null,
   "metadata": {},
   "outputs": [],
   "source": [
    "df_vendas = pd.read_excel('Vendas.xlsx')\n",
    "display(df_vendas)"
   ]
  },
  {
   "attachments": {},
   "cell_type": "markdown",
   "metadata": {},
   "source": [
    "Resumos de visualização de dados simples e úteis\n",
    "<br>-Head\n",
    "<br>-Shape\n",
    "<br>-Describe"
   ]
  }
 ],
 "metadata": {
  "kernelspec": {
   "display_name": "Python 3",
   "language": "python",
   "name": "python3"
  },
  "language_info": {
   "codemirror_mode": {
    "name": "ipython",
    "version": 3
   },
   "file_extension": ".py",
   "mimetype": "text/x-python",
   "name": "python",
   "nbconvert_exporter": "python",
   "pygments_lexer": "ipython3",
   "version": "3.10.2"
  },
  "orig_nbformat": 4
 },
 "nbformat": 4,
 "nbformat_minor": 2
}
