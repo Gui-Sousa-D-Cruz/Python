{
 "cells": [
  {
   "cell_type": "code",
   "execution_count": 1,
   "metadata": {},
   "outputs": [],
   "source": [
    "#importação da biblioteca\n",
    "from tkinter import *\n",
    "\n",
    "#Variavel para criar a tela\n",
    "app=Tk()\n",
    "\n",
    "#Define o nome da janela\n",
    "app.title('Tutorial de Interface gráfica')\n",
    "\n",
    "#Define o tamanho da janela\n",
    "app.geometry('500x300')\n",
    "\n",
    "#Define as configurações da janela\n",
    "app.configure(background='#5F2599')\n",
    "\n",
    "app.mainloop()"
   ]
  }
 ],
 "metadata": {
  "kernelspec": {
   "display_name": "Python 3.10.2 64-bit",
   "language": "python",
   "name": "python3"
  },
  "language_info": {
   "codemirror_mode": {
    "name": "ipython",
    "version": 3
   },
   "file_extension": ".py",
   "mimetype": "text/x-python",
   "name": "python",
   "nbconvert_exporter": "python",
   "pygments_lexer": "ipython3",
   "version": "3.10.2"
  },
  "orig_nbformat": 4,
  "vscode": {
   "interpreter": {
    "hash": "b39b696dd1f05e3be327fa799154dacb071556fa5940d585f9482a06223cab0d"
   }
  }
 },
 "nbformat": 4,
 "nbformat_minor": 2
}
