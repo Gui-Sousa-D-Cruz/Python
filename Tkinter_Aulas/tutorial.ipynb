{
 "cells": [
  {
   "cell_type": "code",
   "execution_count": 6,
   "metadata": {},
   "outputs": [
    {
     "ename": "ModuleNotFoundError",
     "evalue": "No module named 'customtkinter'",
     "output_type": "error",
     "traceback": [
      "\u001b[1;31m---------------------------------------------------------------------------\u001b[0m",
      "\u001b[1;31mModuleNotFoundError\u001b[0m                       Traceback (most recent call last)",
      "\u001b[1;32mc:\\Users\\ANETE\\Documents\\estudos\\python\\Tkinter_Aulas\\tutorial.ipynb Célula: 1\u001b[0m in \u001b[0;36m<cell line: 3>\u001b[1;34m()\u001b[0m\n\u001b[0;32m      <a href='vscode-notebook-cell:/c%3A/Users/ANETE/Documents/estudos/python/Tkinter_Aulas/tutorial.ipynb#W0sZmlsZQ%3D%3D?line=0'>1</a>\u001b[0m \u001b[39m#importação da biblioteca\u001b[39;00m\n\u001b[0;32m      <a href='vscode-notebook-cell:/c%3A/Users/ANETE/Documents/estudos/python/Tkinter_Aulas/tutorial.ipynb#W0sZmlsZQ%3D%3D?line=1'>2</a>\u001b[0m \u001b[39mfrom\u001b[39;00m \u001b[39mtkinter\u001b[39;00m \u001b[39mimport\u001b[39;00m \u001b[39m*\u001b[39m\n\u001b[1;32m----> <a href='vscode-notebook-cell:/c%3A/Users/ANETE/Documents/estudos/python/Tkinter_Aulas/tutorial.ipynb#W0sZmlsZQ%3D%3D?line=2'>3</a>\u001b[0m \u001b[39mimport\u001b[39;00m \u001b[39mcustomtkinter\u001b[39;00m\n\u001b[0;32m      <a href='vscode-notebook-cell:/c%3A/Users/ANETE/Documents/estudos/python/Tkinter_Aulas/tutorial.ipynb#W0sZmlsZQ%3D%3D?line=3'>4</a>\u001b[0m \u001b[39mimport\u001b[39;00m \u001b[39mos\u001b[39;00m\n\u001b[0;32m      <a href='vscode-notebook-cell:/c%3A/Users/ANETE/Documents/estudos/python/Tkinter_Aulas/tutorial.ipynb#W0sZmlsZQ%3D%3D?line=5'>6</a>\u001b[0m \u001b[39m#Armazena o diretório do arquivo\u001b[39;00m\n\u001b[0;32m      <a href='vscode-notebook-cell:/c%3A/Users/ANETE/Documents/estudos/python/Tkinter_Aulas/tutorial.ipynb#W0sZmlsZQ%3D%3D?line=6'>7</a>\u001b[0m \n\u001b[0;32m      <a href='vscode-notebook-cell:/c%3A/Users/ANETE/Documents/estudos/python/Tkinter_Aulas/tutorial.ipynb#W0sZmlsZQ%3D%3D?line=7'>8</a>\u001b[0m \u001b[39m#Função para imprimir os dados\u001b[39;00m\n\u001b[0;32m      <a href='vscode-notebook-cell:/c%3A/Users/ANETE/Documents/estudos/python/Tkinter_Aulas/tutorial.ipynb#W0sZmlsZQ%3D%3D?line=8'>9</a>\u001b[0m \n\u001b[0;32m     <a href='vscode-notebook-cell:/c%3A/Users/ANETE/Documents/estudos/python/Tkinter_Aulas/tutorial.ipynb#W0sZmlsZQ%3D%3D?line=9'>10</a>\u001b[0m \n\u001b[0;32m     <a href='vscode-notebook-cell:/c%3A/Users/ANETE/Documents/estudos/python/Tkinter_Aulas/tutorial.ipynb#W0sZmlsZQ%3D%3D?line=10'>11</a>\u001b[0m \u001b[39m#Variavel para criar a tela\u001b[39;00m\n",
      "\u001b[1;31mModuleNotFoundError\u001b[0m: No module named 'customtkinter'"
     ]
    }
   ],
   "source": [
    "#importação da biblioteca\n",
    "from tkinter import *\n",
    "import customtkinter\n",
    "import os\n",
    "\n",
    "#Armazena o diretório do arquivo\n",
    "\n",
    "#Função para imprimir os dados\n",
    "\n",
    "\n",
    "#Variavel para criar a tela\n",
    "app=customtkinter.CTk()\n",
    "\n",
    "#Define o nome da janela\n",
    "app.title('Tutorial de Interface gráfica')\n",
    "\n",
    "#Define o tamanho da janela\n",
    "app.geometry('500x300')\n",
    "\n",
    "#Define as configurações da janela\n",
    "app.configure(background='#5F2599')\n",
    "\n",
    "#variavel para gerenciar o componente\n",
    "lb1=Label(app,text='Nome',background='#B870FF',foreground='#000000', anchor=W)\n",
    "#método para posicionar o componente\n",
    "lb1.place(x=10,y=10,width=100,height=20)\n",
    "\n",
    "vnome=Entry(app)\n",
    "vnome.place(x=10,y=30,width=200,height=20)\n",
    "\n",
    "lb2=Label(app,text='Telefone',background='#B870FF',foreground='#000000', anchor=W)\n",
    "lb2.place(x=10,y=50,width=100,height=20)\n",
    "vtel=Entry(app)\n",
    "vtel.place(x=10,y=70,width=200,height=20)\n",
    "\n",
    "lb3=Label(app,text='E-mail',background='#B870FF',foreground='#000000', anchor=W)\n",
    "lb3.place(x=10,y=90,width=100,height=20)\n",
    "vmail=Entry(app)\n",
    "vmail.place(x=10,y=110,width=200,height=20)\n",
    "\n",
    "lb4=Label(app,text='OBS:',background='#B870FF',foreground='#000000', anchor=W)\n",
    "lb4.place(x=10,y=130,width=100,height=20)\n",
    "vobs=Text(app)\n",
    "vobs.place(x=10,y=150,width=200,height=80)\n",
    "\n",
    "btn1=Button(app,text='Enviar',command=impdados)\n",
    "btn1.place(x=10,y=250,width=100,height=20)\n",
    "\n",
    "\n",
    "app.mainloop()"
   ]
  }
 ],
 "metadata": {
  "kernelspec": {
   "display_name": "Python 3.10.2 64-bit",
   "language": "python",
   "name": "python3"
  },
  "language_info": {
   "codemirror_mode": {
    "name": "ipython",
    "version": 3
   },
   "file_extension": ".py",
   "mimetype": "text/x-python",
   "name": "python",
   "nbconvert_exporter": "python",
   "pygments_lexer": "ipython3",
   "version": "3.10.2"
  },
  "orig_nbformat": 4,
  "vscode": {
   "interpreter": {
    "hash": "b39b696dd1f05e3be327fa799154dacb071556fa5940d585f9482a06223cab0d"
   }
  }
 },
 "nbformat": 4,
 "nbformat_minor": 2
}
