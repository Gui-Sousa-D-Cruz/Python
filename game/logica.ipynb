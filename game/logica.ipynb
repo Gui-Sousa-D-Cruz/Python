{
 "cells": [
  {
   "cell_type": "code",
   "execution_count": 21,
   "metadata": {},
   "outputs": [],
   "source": [
    "import random\n",
    "import pygame\n",
    "from pygame.locals import *\n",
    "from sys import exit\n",
    "from time import sleep\n",
    "\n",
    "pygame.init()"
   ]
  },
  {
   "cell_type": "markdown",
   "metadata": {},
   "source": [
    "<h1 style='text-align: center;'>Lógica do game</h1>"
   ]
  },
  {
   "cell_type": "markdown",
   "metadata": {},
   "source": [
    "Atributos dos personagens:"
   ]
  },
  {
   "cell_type": "code",
   "execution_count": 67,
   "metadata": {},
   "outputs": [],
   "source": [
    "pow = 0\n",
    "dex = 0\n",
    "con = 0\n",
    "int = 0\n",
    "sab = 0\n",
    "car = 0\n",
    "life = 10"
   ]
  },
  {
   "cell_type": "markdown",
   "metadata": {},
   "source": [
    "Mecanismo pra guardar o nome e a classe do jogador\n"
   ]
  },
  {
   "cell_type": "code",
   "execution_count": 68,
   "metadata": {},
   "outputs": [
    {
     "name": "stdout",
     "output_type": "stream",
     "text": [
      "Classes disponíveis:| Guerreiro | Mago | Ladino | Clérigo |\n",
      "É um prazer te conhecer Luisin!\n",
      "Você escolheu a classe: Mago!\n"
     ]
    }
   ],
   "source": [
    "print('Classes disponíveis:| Guerreiro | Mago | Ladino | Clérigo |')\n",
    "nome = input('Qual é seu nome, viajante? ')\n",
    "classe = input('Digite uma classe: ')\n",
    "\n",
    "print(f'É um prazer te conhecer {nome}!')\n",
    "if classe.upper() == 'MAGO':\n",
    "    print('Você escolheu a classe: Mago!')\n",
    "    pow = 0\n",
    "    dex = 3\n",
    "    con = 2\n",
    "    int = 4\n",
    "    sab = 4\n",
    "    car = 1\n",
    "    life = life + con\n",
    "if classe.upper() == 'GUERREIRO':\n",
    "    print('Você escolheu a classe: Guerreiro!')\n",
    "    pow = 4\n",
    "    dex = 0\n",
    "    con = 4\n",
    "    int = 3\n",
    "    sab = 1\n",
    "    car = 2\n",
    "    life = life + con\n",
    "if classe.upper() == 'LADINO':\n",
    "    print('Você escolheu a classe: Ladino!')\n",
    "    pow = 1\n",
    "    dex = 4\n",
    "    con = 0\n",
    "    int = 3\n",
    "    sab = 2\n",
    "    car = 4\n",
    "    life = life + con\n",
    "if classe.upper() == 'CLERIGO' or classe.upper() == 'CLÉRIGO':\n",
    "    print('Você escolheu a classe: Clérigo')\n",
    "    pow = 0\n",
    "    dex = 1\n",
    "    con = 2\n",
    "    int = 3\n",
    "    sab = 4\n",
    "    car = 4\n",
    "    life = life + con\n"
   ]
  },
  {
   "cell_type": "markdown",
   "metadata": {},
   "source": [
    "<h1 style='text-align:center;'>Começo do jogo</h1>"
   ]
  },
  {
   "cell_type": "markdown",
   "metadata": {},
   "source": [
    "<h2>Primeiro cenário:</h2>\n",
    "Entrada da piramide onde existe uma cavidade que é a porta e longo corredor feito de pedras polidas de cor avermelhada\n"
   ]
  },
  {
   "cell_type": "markdown",
   "metadata": {},
   "source": [
    "Primeira ação:\n"
   ]
  },
  {
   "cell_type": "code",
   "execution_count": 86,
   "metadata": {},
   "outputs": [
    {
     "name": "stdout",
     "output_type": "stream",
     "text": [
      "-=-=-=-=-=-=-=-=-=-=-=-=-=-=-=-=-=-=-=-=-=-=-=-=-=-=-=-=-=-=-=-=-=-=-=-=-=-=-=-=-=-=-=-=-=-=-=-=-=-=\n",
      "Ao adentrar a pirâmide, você nota diversos hierógrifos na parede, deseja investigar? Digite S para sim e N para não\n",
      "-=-=-=-=-=-=-=-=-=-=-=-=-=-=-=-=-=-=-=-=-=-=-=-=-=-=-=-=-=-=-=-=-=-=-=-=-=-=-=-=-=-=-=-=-=-=-=-=-=-=\n",
      "Os hierógrifos te mostram: Viashinos devorando humanos ainda vivos!\n",
      "-=-=-=-=-=-=-=-=-=-=-=-=-=-=-=-=-=-=-=-=-=-=-=-=-=-=-=-=-=-=-=-=-=-=-=-=-=-=-=-=-=-=-=-=-=-=-=-=-=-=\n"
     ]
    }
   ],
   "source": [
    "print('-='*50)\n",
    "print('Ao adentrar a pirâmide, você nota diversos hierógrifos na parede, deseja investigar? Digite S para sim e N para não' )\n",
    "print('-='*50)\n",
    "act = input('Digite aqui: ')\n",
    "\n",
    "if act.upper() == 'S':\n",
    "    print('Os hierógrifos te mostram: Viashinos devorando humanos ainda vivos!')\n",
    "else:\n",
    "    print('Você anda até a entrada do corredor.')\n",
    "print('-='*50)\n"
   ]
  },
  {
   "cell_type": "markdown",
   "metadata": {},
   "source": [
    "Segunda ação:\n"
   ]
  },
  {
   "cell_type": "code",
   "execution_count": 87,
   "metadata": {},
   "outputs": [
    {
     "name": "stdout",
     "output_type": "stream",
     "text": [
      "-=-=-=-=-=-=-=-=-=-=-=-=-=-=-=-=-=-=-=-=-=-=-=-=-=-=-=-=-=-=-=-=-=-=-=-=-=-=-=-=-=-=-=-=-=-=-=-=-=-=\n",
      "Você vê um longo corredor na sua frente, deseja continuar seguindo?  Digite S para sim e N para não\n",
      "-=-=-=-=-=-=-=-=-=-=-=-=-=-=-=-=-=-=-=-=-=-=-=-=-=-=-=-=-=-=-=-=-=-=-=-=-=-=-=-=-=-=-=-=-=-=-=-=-=-=\n",
      "Você segue, vendo ossos humanos espalhados por todo o corredor.\n",
      "-=-=-=-=-=-=-=-=-=-=-=-=-=-=-=-=-=-=-=-=-=-=-=-=-=-=-=-=-=-=-=-=-=-=-=-=-=-=-=-=-=-=-=-=-=-=-=-=-=-=\n"
     ]
    }
   ],
   "source": [
    "print('-='*50)\n",
    "print('Você vê um longo corredor na sua frente, deseja continuar seguindo?  Digite S para sim e N para não')\n",
    "print('-='*50)\n",
    "act = input('Digite aqui: ')\n",
    "\n",
    "\n",
    "\n",
    "if act.upper() == 'S':\n",
    "    print('Você segue, vendo ossos humanos espalhados por todo o corredor.')\n",
    "else:\n",
    "    print('Game Over!')\n",
    "print('-='*50)"
   ]
  },
  {
   "cell_type": "markdown",
   "metadata": {},
   "source": [
    "Terceira ação:\n"
   ]
  },
  {
   "cell_type": "code",
   "execution_count": 95,
   "metadata": {},
   "outputs": [
    {
     "name": "stdout",
     "output_type": "stream",
     "text": [
      "-=-=-=-=-=-=-=-=-=-=-=-=-=-=-=-=-=-=-=-=-=-=-=-=-=-=-=-=-=-=-=-=-=-=-=-=-=-=-=-=-=-=-=-=-=-=-=-=-=-=\n",
      "No meio corredor, você avista uma pilha de ossos! Deseja investigar?  Digite S para sim e N para não\n",
      "-=-=-=-=-=-=-=-=-=-=-=-=-=-=-=-=-=-=-=-=-=-=-=-=-=-=-=-=-=-=-=-=-=-=-=-=-=-=-=-=-=-=-=-=-=-=-=-=-=-=\n",
      "Você não encontrou nada além de ossos.\n",
      "-=-=-=-=-=-=-=-=-=-=-=-=-=-=-=-=-=-=-=-=-=-=-=-=-=-=-=-=-=-=-=-=-=-=-=-=-=-=-=-=-=-=-=-=-=-=-=-=-=-=\n"
     ]
    }
   ],
   "source": [
    "print('-='*50)\n",
    "print('No meio corredor, você avista uma pilha de ossos! Deseja investigar?  Digite S para sim e N para não')\n",
    "print('-='*50)\n",
    "act = input('Digite aqui: ')\n",
    "\n",
    "\n",
    "if act.upper() == 'S':\n",
    "    sucesso = 10\n",
    "    d20 = random.randint(1, 20)\n",
    "    roll = d20 + sab\n",
    "    #print (sab)\n",
    "    #print(roll)\n",
    "    \n",
    "\n",
    "    if roll <= 5:\n",
    "        #print('Fracasso crítico!')\n",
    "        print('Você não encontrou nada além de ossos.')\n",
    "        investigar_ossos = False\n",
    "        f_crit = True\n",
    "    else:\n",
    "        if roll >= 20:\n",
    "            #print('Sucesso crítico!')\n",
    "            print('Você observa a pilha e identifica que há uma armadilha à frente.')\n",
    "            investigar_ossos = True\n",
    "            s_crit = True\n",
    "        else:\n",
    "            if roll >= sucesso:\n",
    "                #print('Sucesso')\n",
    "                print('Você observa a pilha e identifica que há uma armadilha à frente.')\n",
    "                investigar_ossos = True\n",
    "                s_crit = False\n",
    "            else:\n",
    "                #print('Fracasso')\n",
    "                print('Você não encontrou nada além de ossos.')\n",
    "                investigar_ossos = False\n",
    "                f_crit = False\n",
    "                \n",
    "print('-='*50)\n",
    "    "
   ]
  },
  {
   "cell_type": "markdown",
   "metadata": {},
   "source": [
    "Quarta ação:\n"
   ]
  },
  {
   "cell_type": "code",
   "execution_count": 166,
   "metadata": {},
   "outputs": [
    {
     "name": "stdout",
     "output_type": "stream",
     "text": [
      "Ao seguir o corredor, você ouve um barulho de pedra se movendo e repentinamente são dispardos dardos das paredes!\n",
      "1 3\n",
      "16\n",
      "Sucesso\n"
     ]
    }
   ],
   "source": [
    "if investigar_ossos == True:\n",
    "    print('Você segue o corredor e não ativa a armadilha!')\n",
    "else:\n",
    "    print('Ao seguir o corredor, você ouve um barulho de pedra se movendo e repentinamente são dispardos dardos das paredes!')\n",
    "    sucesso = 12\n",
    "    d20 = random.randint(1, 20)\n",
    "    d4 = random.randint(1, 4)\n",
    "    d4_2 = random.randint(1, 4)\n",
    "    print(d4, d4_2)\n",
    "    roll = d20 + dex\n",
    "    #print (sab)\n",
    "    print(roll)\n",
    "    \n",
    "    if roll <= 5:\n",
    "        print('Fracasso crítico!')\n",
    "        #print('NARRATIVA')\n",
    "        f_crit = True\n",
    "        life = life - (d4 + d4_2)\n",
    "        print(f'Você tomou {d4 + d4_2} de dano!')\n",
    "\n",
    "    else:\n",
    "        if roll >= 20:\n",
    "            print('Sucesso crítico!')\n",
    "            #print('NARRATIVA')\n",
    "            s_crit = True\n",
    "        else:\n",
    "            if roll >= sucesso:\n",
    "                print('Sucesso')\n",
    "                #print('NARRATIVA')\n",
    "                s_crit = False\n",
    "            else:\n",
    "                print('Fracasso')\n",
    "                #print('NARRATIVA')\n",
    "                f_crit = False\n",
    "                life = life - d4\n",
    "                print(f'Você tomou {d4} de dano!')\n",
    "    \n",
    "    "
   ]
  },
  {
   "cell_type": "markdown",
   "metadata": {},
   "source": [
    "<h1 style='text-align:center;'>Base de rolagem de d20</h1>"
   ]
  },
  {
   "cell_type": "code",
   "execution_count": null,
   "metadata": {},
   "outputs": [],
   "source": [
    "sucesso = 0\n",
    "atributo = 0\n",
    "d20 = random.randint(1, 20)\n",
    "roll = d20 + atributo\n",
    "print(roll)\n",
    "\n",
    "if roll <= 5:\n",
    "    print('Fracasso crítico!')\n",
    "else:\n",
    "    if roll >= 20:\n",
    "        print('Sucesso crítico!')\n",
    "    else:\n",
    "        if roll >= sucesso:\n",
    "            print('Sucesso')\n",
    "        else:\n",
    "            print('Fracasso')"
   ]
  },
  {
   "cell_type": "markdown",
   "metadata": {},
   "source": [
    "<h1 style='text-align:center;'>Classes</h1>"
   ]
  },
  {
   "cell_type": "markdown",
   "metadata": {},
   "source": [
    "<h2 style='color:lightblue;'>Mago:</h2>\n",
    "Força: 0 <br>\n",
    "Destreza: 3 <br>\n",
    "Constituição: 2 <br>\n",
    "Inteligência: 4 <br>\n",
    "Sabedoria: 4 <br>\n",
    "Carisma: 1\n"
   ]
  },
  {
   "cell_type": "markdown",
   "metadata": {},
   "source": [
    "<h2 style='color:darkred;'>Guerreiro:</h2>\n",
    "Força: 4 <br>\n",
    "Destreza: 0 <br>\n",
    "Constituição: 4 <br>\n",
    "Inteligência: 3 <br>\n",
    "Sabedoria: 1 <br>\n",
    "Carisma: 2"
   ]
  },
  {
   "cell_type": "markdown",
   "metadata": {},
   "source": [
    "<h2 style='color:lightgreen;'>Clérigo:</h2> \n",
    "Força: 0 <br>\n",
    "Destreza: 1 <br>\n",
    "Constituição: 2 <br>\n",
    "Inteligência: 3 <br>\n",
    "Sabedoria: 4 <br>\n",
    "Carisma: 4"
   ]
  },
  {
   "cell_type": "markdown",
   "metadata": {},
   "source": [
    "<h2 style='color:yellow;'>Ladino:</h2>\n",
    "Força: 0 <br>\n",
    "Desteza: 4 <br>\n",
    "Constituição: 1 <br>\n",
    "Inteligência 3 <br>\n",
    "Sabedoria 2 <br>\n",
    "Carismo: 4 <br>"
   ]
  }
 ],
 "metadata": {
  "interpreter": {
   "hash": "b39b696dd1f05e3be327fa799154dacb071556fa5940d585f9482a06223cab0d"
  },
  "kernelspec": {
   "display_name": "Python 3.10.2 64-bit",
   "language": "python",
   "name": "python3"
  },
  "language_info": {
   "codemirror_mode": {
    "name": "ipython",
    "version": 3
   },
   "file_extension": ".py",
   "mimetype": "text/x-python",
   "name": "python",
   "nbconvert_exporter": "python",
   "pygments_lexer": "ipython3",
   "version": "3.10.2"
  },
  "orig_nbformat": 4
 },
 "nbformat": 4,
 "nbformat_minor": 2
}
