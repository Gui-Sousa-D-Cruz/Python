{
 "cells": [
  {
   "cell_type": "markdown",
   "metadata": {},
   "source": [
    "<h1>Base de tela</h1>"
   ]
  },
  {
   "cell_type": "code",
   "execution_count": null,
   "metadata": {},
   "outputs": [],
   "source": [
    "<Tela1>:\n",
    "    BoxLayout:\n",
    "        orientation:'vertical'\n",
    "        BoxLayout:\n",
    "            Label:\n",
    "                text:''\n",
    "            Label:\n",
    "                id:cena\n",
    "                text:'LOREM'\n",
    "            Label:\n",
    "                text:''\n",
    "        BoxLayout:\n",
    "            orientation:'vertical'\n",
    "            Button:\n",
    "                id:bt1\n",
    "                text:'Investigar.'\n",
    "                on_release: app.root.current = '#'\n",
    "            Button:\n",
    "                id:bt2\n",
    "                text:'Passar Direto.'\n",
    "                on_release: app.root.current = '#'"
   ]
  }
 ],
 "metadata": {
  "kernelspec": {
   "display_name": "Python 3.10.2 64-bit",
   "language": "python",
   "name": "python3"
  },
  "language_info": {
   "name": "python",
   "version": "3.10.2"
  },
  "orig_nbformat": 4,
  "vscode": {
   "interpreter": {
    "hash": "b39b696dd1f05e3be327fa799154dacb071556fa5940d585f9482a06223cab0d"
   }
  }
 },
 "nbformat": 4,
 "nbformat_minor": 2
}
