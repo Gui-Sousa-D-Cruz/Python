{
 "cells": [
  {
   "attachments": {},
   "cell_type": "markdown",
   "metadata": {},
   "source": [
    "Laços de repetições\n"
   ]
  },
  {
   "cell_type": "code",
   "execution_count": null,
   "metadata": {},
   "outputs": [],
   "source": [
    "for c in range(0, 7): \n",
    "    print(c)\n",
    "    \n",
    "for c in range(6, 0, -1):\n",
    "    print(c)\n",
    "print('Fim')\n",
    "        "
   ]
  },
  {
   "cell_type": "code",
   "execution_count": null,
   "metadata": {},
   "outputs": [],
   "source": [
    "n = int(input('Digite um número: '))\n",
    "\n",
    "for c in range(0, n+1):\n",
    "    print(c)\n",
    "print('Fim')"
   ]
  },
  {
   "cell_type": "code",
   "execution_count": null,
   "metadata": {},
   "outputs": [],
   "source": [
    "i = int(input('Digite o número inicial: '))\n",
    "f = int(input('Digite o número final: '))\n",
    "p = int(input('Digite o passo: '))\n",
    "\n",
    "for c in range(i, f+1, p):\n",
    "    print(c)\n",
    "print('FIM')"
   ]
  },
  {
   "cell_type": "code",
   "execution_count": 29,
   "metadata": {},
   "outputs": [
    {
     "name": "stdout",
     "output_type": "stream",
     "text": [
      "A soma dos números é: 10\n"
     ]
    }
   ],
   "source": [
    "s = 0\n",
    "for c in range(0, 4):\n",
    "    n = int(input('Digite um valor: '))\n",
    "    s += n\n",
    "    \n",
    "print(f'A soma dos números é: {s}')\n",
    "    "
   ]
  }
 ],
 "metadata": {
  "kernelspec": {
   "display_name": "Python 3",
   "language": "python",
   "name": "python3"
  },
  "language_info": {
   "codemirror_mode": {
    "name": "ipython",
    "version": 3
   },
   "file_extension": ".py",
   "mimetype": "text/x-python",
   "name": "python",
   "nbconvert_exporter": "python",
   "pygments_lexer": "ipython3",
   "version": "3.10.2"
  },
  "orig_nbformat": 4
 },
 "nbformat": 4,
 "nbformat_minor": 2
}
