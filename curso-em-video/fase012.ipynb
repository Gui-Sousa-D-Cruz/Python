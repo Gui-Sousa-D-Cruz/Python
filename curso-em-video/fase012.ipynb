{
 "cells": [
  {
   "attachments": {},
   "cell_type": "markdown",
   "metadata": {},
   "source": [
    "<h1 style='Color: lightblue'>\n",
    "Estrutura condicional aninhadas\n",
    "</h1>"
   ]
  },
  {
   "cell_type": "code",
   "execution_count": null,
   "metadata": {},
   "outputs": [],
   "source": [
    "nome = str(input('Qual é seu nome? '))\n",
    "if nome.upper() == 'GUILHERME':\n",
    "    print('Que nome lindo!')\n",
    "elif nome.upper() == 'DUDINHA' or nome.upper() == 'DUDA':\n",
    "    print(f'Amo você {nome}')\n",
    "elif nome.upper() in 'LUIS RHERICKY FABIO ARTHUR':\n",
    "    print('Vai se fuder')\n",
    "else:\n",
    "    print('Seu nome é bem normal!')\n",
    "print(f'Tenha um, bom dia {nome}!')"
   ]
  }
 ],
 "metadata": {
  "kernelspec": {
   "display_name": "Python 3",
   "language": "python",
   "name": "python3"
  },
  "language_info": {
   "codemirror_mode": {
    "name": "ipython",
    "version": 3
   },
   "file_extension": ".py",
   "mimetype": "text/x-python",
   "name": "python",
   "nbconvert_exporter": "python",
   "pygments_lexer": "ipython3",
   "version": "3.10.2"
  },
  "orig_nbformat": 4
 },
 "nbformat": 4,
 "nbformat_minor": 2
}
