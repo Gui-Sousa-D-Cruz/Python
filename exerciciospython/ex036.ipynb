{
 "cells": [
  {
   "attachments": {},
   "cell_type": "markdown",
   "metadata": {},
   "source": [
    "<h1>\n",
    "Minha solução\n",
    "</h1>"
   ]
  },
  {
   "cell_type": "code",
   "execution_count": 60,
   "metadata": {},
   "outputs": [
    {
     "name": "stdout",
     "output_type": "stream",
     "text": [
      "CRÉDITO RECUSADO!!! A parcela do empréstimo de 120000.00 fica em R$1000.00 ao mês em 10 anos. Seu limite é de R$600 ao mês em 10 anos\n"
     ]
    }
   ],
   "source": [
    "casa = int(input('Qual valor do imóvel? '))\n",
    "salario = int(input('Qual seu salário atual? '))\n",
    "porcen = int((salario*30) / 100) #Calculo de 30% do salário\n",
    "anos = int(input('Em quantos anos você deseja financiar? '))\n",
    "meses = int(anos*12) #Conversão de anos pra meses\n",
    "parcelas = int(casa / meses) #valor de cada parcela\n",
    "\n",
    "\n",
    "\n",
    "if parcelas > porcen: #Se o valor da parcela for maior que 30% do salário\n",
    "    print(f'CRÉDITO RECUSADO!!! A parcela do empréstimo de R${casa:.2f} fica em R${parcelas:.2f} ao mês em {anos} anos. Seu limite é de R${porcen} ao mês em {anos} anos')\n",
    "else:\n",
    "    print(f'CRÉDITO APROVADO!!! A parcela do empréstimo de R${casa:.2f} fica em R${parcelas:.2f} ao mês em {anos} anos. Seu limite é de R${porcen} ao mês em {anos} anos')"
   ]
  },
  {
   "attachments": {},
   "cell_type": "markdown",
   "metadata": {},
   "source": [
    "<h1>\n",
    "Gabarito\n",
    "</h1>"
   ]
  },
  {
   "cell_type": "code",
   "execution_count": 57,
   "metadata": {},
   "outputs": [
    {
     "name": "stdout",
     "output_type": "stream",
     "text": [
      "Emprestimo NEGADO\n",
      "Para pagar uma casa de R$120000.00, a prestação será de 1000.00.\n"
     ]
    }
   ],
   "source": [
    "casa = float(input('Valor da casa: R$'))\n",
    "salario = float(input('Salário do comprador: R$'))\n",
    "anos = int(input('Quantos anos de financiamento? '))\n",
    "prestação = casa / (anos * 12)\n",
    "minimo = salario * 30 / 100\n",
    "\n",
    "print(f'Para pagar uma casa de R${casa:.2f}, a prestação será de {prestação:.2f}.')\n",
    "if prestação <= minimo:\n",
    "    print('Empréstimo pode ser CONCEDIDO')\n",
    "else:\n",
    "    print('Emprestimo NEGADO')\n"
   ]
  }
 ],
 "metadata": {
  "kernelspec": {
   "display_name": "Python 3",
   "language": "python",
   "name": "python3"
  },
  "language_info": {
   "codemirror_mode": {
    "name": "ipython",
    "version": 3
   },
   "file_extension": ".py",
   "mimetype": "text/x-python",
   "name": "python",
   "nbconvert_exporter": "python",
   "pygments_lexer": "ipython3",
   "version": "3.10.2"
  },
  "orig_nbformat": 4
 },
 "nbformat": 4,
 "nbformat_minor": 2
}
