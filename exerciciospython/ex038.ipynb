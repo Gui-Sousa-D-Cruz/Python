{
 "cells": [
  {
   "cell_type": "code",
   "execution_count": 12,
   "metadata": {},
   "outputs": [
    {
     "name": "stdout",
     "output_type": "stream",
     "text": [
      "\n",
      "O primeiro número é: 1!\n",
      "O segundo número é: 1!\n",
      "      \n",
      "Os dois números são iguais: 1 = 1\n"
     ]
    }
   ],
   "source": [
    "x = int(input('Digite o primeiro número: '))\n",
    "y = int(input('Digite o segundo número: '))\n",
    "\n",
    "print(f'''\n",
    "O primeiro número é: {x}!\n",
    "O segundo número é: {y}!\n",
    "      ''')\n",
    "\n",
    "if x == y:\n",
    "    print(f'Os dois números são iguais: {x} = {y}')\n",
    "elif x > y:\n",
    "    print(f'O PRIMEIRO número é maior: {x} > {y}')\n",
    "else:\n",
    "    print(f'O SEGUNDO número é maior: {y} > {x}')"
   ]
  }
 ],
 "metadata": {
  "kernelspec": {
   "display_name": "Python 3",
   "language": "python",
   "name": "python3"
  },
  "language_info": {
   "codemirror_mode": {
    "name": "ipython",
    "version": 3
   },
   "file_extension": ".py",
   "mimetype": "text/x-python",
   "name": "python",
   "nbconvert_exporter": "python",
   "pygments_lexer": "ipython3",
   "version": "3.10.2"
  },
  "orig_nbformat": 4
 },
 "nbformat": 4,
 "nbformat_minor": 2
}
