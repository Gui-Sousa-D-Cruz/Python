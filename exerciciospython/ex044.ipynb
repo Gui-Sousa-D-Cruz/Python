{
 "cells": [
  {
   "cell_type": "code",
   "execution_count": 24,
   "metadata": {},
   "outputs": [
    {
     "name": "stdout",
     "output_type": "stream",
     "text": [
      "========== LOJAS GUIGUI ==========\n",
      "FORMAS DE PAGAMENTO \n",
      "[ 1 ] à vista dinheiro/cheque.\n",
      "[ 2 ] à vista cartão de débito.\n",
      "[ 3 ] 2x no cartão de crédito.\n",
      "[ 4 ] 3x ou mais no cartão.\n",
      "==================================\n",
      "Sua compra será à vista no dinhero/cheque!\n",
      "Você receberá um desconto de R$ 400.00!\n",
      "O valor total da compra será R$ 3600.00!\n",
      "==================================\n"
     ]
    }
   ],
   "source": [
    "print('========== LOJAS GUIGUI ==========')\n",
    "val = int(input('Valor da compra: R$ '))\n",
    "print('FORMAS DE PAGAMENTO ')\n",
    "print('''[ 1 ] à vista dinheiro/cheque.\n",
    "[ 2 ] à vista cartão de débito.\n",
    "[ 3 ] 2x no cartão de crédito.\n",
    "[ 4 ] 3x ou mais no cartão.''')\n",
    "print('==================================')\n",
    "while True:\n",
    "    opc = int(input('Qual será a forma de pagamento? '))\n",
    "    if opc == 1:\n",
    "        porc = val * 10 / 100\n",
    "        dec = val - porc\n",
    "        print('Sua compra será à vista no dinhero/cheque!')\n",
    "        print(f'Você receberá um desconto de R$ {porc:.2f}!')\n",
    "        print(f'O valor total da compra será R$ {dec:.2f}!')\n",
    "        print('==================================')\n",
    "        break #loop principal\n",
    "    elif opc == 2:\n",
    "        print('Sua compra será a vista no débito')\n",
    "        porc = val * 5 /100\n",
    "        dec = val - porc\n",
    "        print(f'Você receberá um desconto de R$ {porc:.2f}')\n",
    "        print(f'O valor total da compra será R$ {dec:.2f}')\n",
    "        print('==================================')\n",
    "        break #loop principal\n",
    "    elif opc == 3:\n",
    "        print('''[ 1 ] 1x.\n",
    "[ 2 ] 2x. ''')\n",
    "        print('==================================')\n",
    "        while True:\n",
    "            p = int(input('Escolha a opção'))\n",
    "            if p == 1:\n",
    "                print('Sua compra será à vista no crédito!')\n",
    "                print(f'O valor da sua compra será R$ {val}!')\n",
    "                break\n",
    "            elif p == 2:\n",
    "                print('Sua compra será parcelada em 2x no crédito!')\n",
    "                print(f'O valor da sua compra será R$ {val:.2f}!')\n",
    "                print(f'Serão {p} parcelas de R$ {val/2:.2f}!')\n",
    "                break\n",
    "            else:\n",
    "                print('Digite um número válido')\n",
    "                print('==================================')\n",
    "                \n",
    "        print('==================================')\n",
    "        \n",
    "        break #loop principal\n",
    "    elif opc == 4:\n",
    "        print('')\n",
    "        print('==================================')\n",
    "        break\n",
    "    else:\n",
    "        print('Digite uma opção válida.')\n",
    "        print('==================================')\n",
    "    \n"
   ]
  }
 ],
 "metadata": {
  "kernelspec": {
   "display_name": "Python 3",
   "language": "python",
   "name": "python3"
  },
  "language_info": {
   "codemirror_mode": {
    "name": "ipython",
    "version": 3
   },
   "file_extension": ".py",
   "mimetype": "text/x-python",
   "name": "python",
   "nbconvert_exporter": "python",
   "pygments_lexer": "ipython3",
   "version": "3.10.2"
  },
  "orig_nbformat": 4
 },
 "nbformat": 4,
 "nbformat_minor": 2
}
