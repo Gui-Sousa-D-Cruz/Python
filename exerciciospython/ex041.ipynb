{
 "cells": [
  {
   "cell_type": "code",
   "execution_count": 27,
   "metadata": {},
   "outputs": [
    {
     "name": "stdout",
     "output_type": "stream",
     "text": [
      "MASTER\n"
     ]
    }
   ],
   "source": [
    "import time\n",
    "ano = int(input('Informe o ano de nascimento: '))\n",
    "at = time.localtime()\n",
    "atual = at[0]\n",
    "idade = atual - ano\n",
    "\n",
    "if idade < 10 : \n",
    "    print('MIRIN')\n",
    "elif idade > 9 and idade < 15:\n",
    "    print('INFANTIL')\n",
    "elif idade > 14 and idade < 20:\n",
    "    print('JÚNIOR')\n",
    "elif idade > 19 and idade <= 25:\n",
    "    print('SÊNIOR')\n",
    "else:\n",
    "    print('MASTER')\n",
    "\n",
    "    "
   ]
  }
 ],
 "metadata": {
  "kernelspec": {
   "display_name": "Python 3",
   "language": "python",
   "name": "python3"
  },
  "language_info": {
   "codemirror_mode": {
    "name": "ipython",
    "version": 3
   },
   "file_extension": ".py",
   "mimetype": "text/x-python",
   "name": "python",
   "nbconvert_exporter": "python",
   "pygments_lexer": "ipython3",
   "version": "3.10.2"
  },
  "orig_nbformat": 4
 },
 "nbformat": 4,
 "nbformat_minor": 2
}
