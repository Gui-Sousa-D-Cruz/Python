{
 "cells": [
  {
   "cell_type": "code",
   "execution_count": 5,
   "metadata": {},
   "outputs": [
    {
     "name": "stdout",
     "output_type": "stream",
     "text": [
      "Qual seu sexo?\n",
      "Número inválido\n",
      "Número inválido\n",
      "Número inválido\n",
      "Número inválido\n",
      "Quem nasceu em 2000 tem ou terá 23 anos em 2023.\n",
      "Você deveria ter se alistado há 5 anos.\n",
      "        Seu alistamento foi em 2018.\n",
      "        \n"
     ]
    }
   ],
   "source": [
    "import time\n",
    "\n",
    "print('Qual seu sexo?')\n",
    "\n",
    "while True:\n",
    "    sexo = int(input('Digite 1 para masculino e 2 para feminino'))\n",
    "    if sexo == 1:\n",
    "        at = time.localtime()\n",
    "        an = int(input('Digite o ano do seu nascimento: '))\n",
    "        av = at[0] - an\n",
    "        da = av - 18\n",
    "        am = at[0] - da\n",
    "        print(f'Quem nasceu em {an} tem ou terá {av} anos em {at[0]}.')\n",
    "\n",
    "        if av > 18:\n",
    "            print(f'''Você deveria ter se alistado há {da} anos.\n",
    "        Seu alistamento foi em {am}.\n",
    "        ''')\n",
    "            break\n",
    "        elif av < 18:\n",
    "            print(f'''Você deverá se alistada daqui a {da * -1} anos.\n",
    "        Seu alistamento será em {(da*-1)+at[0]}\n",
    "                ''')\n",
    "            break\n",
    "        else:\n",
    "            print('Você deve se alistar esse ano')\n",
    "            break\n",
    "    elif sexo == 2:\n",
    "        print('Você não precisa se alistar')\n",
    "        break\n",
    "    else:\n",
    "        print('Número inválido')\n",
    "   \n",
    "            \n",
    "           \n",
    "\n",
    "\n",
    "      \n",
    "\n",
    "\n",
    "\n"
   ]
  },
  {
   "attachments": {},
   "cell_type": "markdown",
   "metadata": {},
   "source": []
  }
 ],
 "metadata": {
  "kernelspec": {
   "display_name": "Python 3",
   "language": "python",
   "name": "python3"
  },
  "language_info": {
   "codemirror_mode": {
    "name": "ipython",
    "version": 3
   },
   "file_extension": ".py",
   "mimetype": "text/x-python",
   "name": "python",
   "nbconvert_exporter": "python",
   "pygments_lexer": "ipython3",
   "version": "3.10.2"
  },
  "orig_nbformat": 4
 },
 "nbformat": 4,
 "nbformat_minor": 2
}
