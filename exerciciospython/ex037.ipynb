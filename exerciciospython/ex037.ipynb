{
 "cells": [
  {
   "cell_type": "code",
   "execution_count": 12,
   "metadata": {},
   "outputs": [
    {
     "name": "stdout",
     "output_type": "stream",
     "text": [
      "Escolha um das opcões de conversão: \n",
      "[ 1 ] Binário \n",
      "[ 2 ] Octal \n",
      "[ 3 ] Hexadecima\n",
      "Digite um número válido\n"
     ]
    }
   ],
   "source": [
    "#armazenar um numero inteiro numa varialvel\n",
    "\n",
    "num = int(input('Digite um número: '))\n",
    "\n",
    "#escolher para qual linguagem vai ser convertido\n",
    "\n",
    "print('Escolha um das opcões de conversão: \\n[ 1 ] Binário \\n[ 2 ] Octal \\n[ 3 ] Hexadecima')\n",
    "esc = int(input('Digite aqui: '))\n",
    "\n",
    "#Condições de escolha\n",
    "\n",
    "if esc == 1:\n",
    "    print(f'O número {num} convertido para binário é igual a {bin(num)[2:]}') \n",
    "elif esc == 2:\n",
    "    print(f'O número {num} convertido para octal é igual a {oct(num)[2:]}')\n",
    "elif esc == 3:\n",
    "    print(f'O número {num} convertido para hexadecimal é igual a {hex(num)[2:]}')  \n",
    "\n",
    "else:\n",
    "    #caso nenhum dos números corretos forem digitados\n",
    "    print('Digite um número válido')\n",
    "\n",
    "#OBS: Na saida o python usa:\n",
    "#0b para Binário\n",
    "#0o pra octal\n",
    "#0x para hexadecimal\n"
   ]
  },
  {
   "cell_type": "code",
   "execution_count": 8,
   "metadata": {},
   "outputs": [
    {
     "name": "stdout",
     "output_type": "stream",
     "text": [
      "45\n",
      "0b101101\n"
     ]
    }
   ],
   "source": [
    "num = 45\n",
    "binario = bin(num)\n",
    "\n",
    "print(num)\n",
    "print(binario)"
   ]
  }
 ],
 "metadata": {
  "kernelspec": {
   "display_name": "Python 3",
   "language": "python",
   "name": "python3"
  },
  "language_info": {
   "codemirror_mode": {
    "name": "ipython",
    "version": 3
   },
   "file_extension": ".py",
   "mimetype": "text/x-python",
   "name": "python",
   "nbconvert_exporter": "python",
   "pygments_lexer": "ipython3",
   "version": "3.10.2"
  },
  "orig_nbformat": 4
 },
 "nbformat": 4,
 "nbformat_minor": 2
}
