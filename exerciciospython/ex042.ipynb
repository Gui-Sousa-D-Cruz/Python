{
 "cells": [
  {
   "cell_type": "code",
   "execution_count": 1,
   "metadata": {},
   "outputs": [
    {
     "name": "stdout",
     "output_type": "stream",
     "text": [
      "Analisador de Triângulos\n",
      "Os segmentos acima PODEM FORMAR um triângulo\n",
      "ISÓCELES\n"
     ]
    }
   ],
   "source": [
    "print('Analisador de Triângulos')\n",
    "r1 = float(input('Primeiro segmento: '))\n",
    "r2 = float(input('Segundo segmento: '))\n",
    "r3 = float(input('Terceiro segmento: '))\n",
    "if r1 < r2 + r3 and r2 < r1+r3 and r3 < r1 + r2:\n",
    "    print('Os segmentos acima PODEM FORMAR um triângulo')\n",
    "    if r1 == r2 == r3:\n",
    "        print('EQUILÁTERO')\n",
    "    elif r1 != r2 != r3 != r1:\n",
    "        print('ESCALENO')\n",
    "    else:\n",
    "        print('ISÓCELES')\n",
    "else:\n",
    "    print('Os segmentos acima NÃO PODEM FORMAR um triângulo')\n"
   ]
  }
 ],
 "metadata": {
  "kernelspec": {
   "display_name": "Python 3",
   "language": "python",
   "name": "python3"
  },
  "language_info": {
   "codemirror_mode": {
    "name": "ipython",
    "version": 3
   },
   "file_extension": ".py",
   "mimetype": "text/x-python",
   "name": "python",
   "nbconvert_exporter": "python",
   "pygments_lexer": "ipython3",
   "version": "3.10.2"
  },
  "orig_nbformat": 4
 },
 "nbformat": 4,
 "nbformat_minor": 2
}
