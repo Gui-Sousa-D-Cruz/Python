{
 "cells": [
  {
   "cell_type": "code",
   "execution_count": 4,
   "metadata": {},
   "outputs": [
    {
     "name": "stdout",
     "output_type": "stream",
     "text": [
      "8 nao eh primo\n",
      "9 nao eh primo\n",
      "9 nao eh primo\n",
      "6 nao eh primo\n",
      "7 eh primo\n",
      "6 nao eh primo\n",
      "5 eh primo\n"
     ]
    }
   ],
   "source": [
    "Testes = int(input())\n",
    "\n",
    "for teste in range(Testes):\n",
    "    n = int(input())\n",
    "    primo = True\n",
    "    for i in range(2, n):\n",
    "        if n % i == 0:\n",
    "            primo = False\n",
    "            break\n",
    "        \n",
    "    if primo :\n",
    "        print(f'{n} eh primo')\n",
    "    else:\n",
    "        print(f'{n} nao eh primo')\n",
    "\n"
   ]
  }
 ],
 "metadata": {
  "kernelspec": {
   "display_name": "Python 3",
   "language": "python",
   "name": "python3"
  },
  "language_info": {
   "codemirror_mode": {
    "name": "ipython",
    "version": 3
   },
   "file_extension": ".py",
   "mimetype": "text/x-python",
   "name": "python",
   "nbconvert_exporter": "python",
   "pygments_lexer": "ipython3",
   "version": "3.10.2"
  },
  "orig_nbformat": 4,
  "vscode": {
   "interpreter": {
    "hash": "b39b696dd1f05e3be327fa799154dacb071556fa5940d585f9482a06223cab0d"
   }
  }
 },
 "nbformat": 4,
 "nbformat_minor": 2
}
