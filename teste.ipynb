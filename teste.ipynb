{
 "cells": [
  {
   "cell_type": "code",
   "execution_count": 18,
   "metadata": {},
   "outputs": [
    {
     "name": "stdout",
     "output_type": "stream",
     "text": [
      "Gui\n",
      "123\n",
      "gui@gui\n",
      "obs\n",
      "0\n"
     ]
    }
   ],
   "source": [
    "resultado =[('Gui',123,'gui@gui','obs'), ('Fab',321,'fab@fab','obs')]\n",
    "\n",
    "lista = int(len(resultado[0]))\n",
    "cont = 0\n",
    "for c in range(0, lista):\n",
    "    print(resultado[cont][c])\n",
    "    if c == len(resultado[0]):\n",
    "        cont += 1\n",
    "        c = 0\n",
    "print(cont)"
   ]
  },
  {
   "cell_type": "code",
   "execution_count": 38,
   "metadata": {},
   "outputs": [
    {
     "name": "stdout",
     "output_type": "stream",
     "text": [
      "Nome: Gui\n",
      "Número: 123\n",
      "Email: gui@gui\n",
      "Observação: obs\n",
      "\n",
      "Nome: Fab\n",
      "Número: 321\n",
      "Email: fab@fab\n",
      "Observação: obs\n",
      "\n",
      "Nome: Ale\n",
      "Número: 456\n",
      "Email: ale@ale\n",
      "Observação: obs\n",
      "\n",
      "Nome: Alaim\n",
      "Número: 654\n",
      "Email: ala@ala\n",
      "Observação: obs\n",
      "\n",
      "\n"
     ]
    }
   ],
   "source": [
    "resultado =[('Gui',123,'gui@gui','obs'), ('Fab',321,'fab@fab','obs'), ('Ale', 456, 'ale@ale','obs'),('Alaim',654,'ala@ala','obs')]\n",
    "lista = int(len(resultado[0]))\n",
    "visual =['Nome: ', 'Número: ', 'Email: ', 'Observação: ']\n",
    "c = 0\n",
    "cl = 0\n",
    "while True:\n",
    "    while True:\n",
    "        if c < lista and cl < len(resultado):\n",
    "            print(f'{visual[c]}{resultado[cl][c]}')\n",
    "            c += 1\n",
    "        else:\n",
    "            print('')\n",
    "            c = 0\n",
    "            break\n",
    "            \n",
    "    if cl < len(resultado):\n",
    "        cl += 1\n",
    "    else:\n",
    "        break\n",
    "        "
   ]
  },
  {
   "cell_type": "code",
   "execution_count": 68,
   "metadata": {},
   "outputs": [
    {
     "name": "stdout",
     "output_type": "stream",
     "text": [
      "6\n",
      "5\n",
      "[0, 1, 2, 3, 4, 5]\n",
      "-=-=-=-=-=-=-=-=-=-=-=-=\n",
      "7\n",
      "6\n",
      "[0, 1, 2, 3, 4, 5, 6]\n"
     ]
    }
   ],
   "source": [
    "lista = [0,1,2,3,4,5]\n",
    "leng = int(len(lista))\n",
    "print(leng)\n",
    "print(lista[leng-1])\n",
    "print(lista)\n",
    "lista.append(6)\n",
    "leng = int(len(lista))\n",
    "print('-='*12)\n",
    "print(leng)\n",
    "print(lista[leng-1])\n",
    "print(lista)\n",
    "\n"
   ]
  }
 ],
 "metadata": {
  "kernelspec": {
   "display_name": "Python 3",
   "language": "python",
   "name": "python3"
  },
  "language_info": {
   "codemirror_mode": {
    "name": "ipython",
    "version": 3
   },
   "file_extension": ".py",
   "mimetype": "text/x-python",
   "name": "python",
   "nbconvert_exporter": "python",
   "pygments_lexer": "ipython3",
   "version": "3.10.2"
  },
  "orig_nbformat": 4
 },
 "nbformat": 4,
 "nbformat_minor": 2
}
