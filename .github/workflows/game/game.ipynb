{
 "cells": [
  {
   "cell_type": "code",
   "execution_count": 24,
   "metadata": {},
   "outputs": [],
   "source": [
    "import PySimpleGUI as sg\n",
    "import random\n",
    "from time import sleep\n",
    "sg.theme('Reddit')\n",
    "\n",
    "hp = 20\n",
    "layout = []\n",
    "\n",
    "#Criar as janelas e estilos(layout)\n",
    "def janela_1():\n",
    "    layout=[\n",
    "        [sg.Push(), sg.Text('Combate'), sg.Push()],\n",
    "        [sg.Push(), sg.Text(f'O hp do inimigo é {hp}',key='vida'), sg.Push()],\n",
    "        [sg.Push(), sg.Button('Combate'), sg.Push(),sg.Button('Mochila'), sg.Push()],\n",
    "        [sg.Push(), sg.Button('Fugir'), sg.Push()]\n",
    "    ]\n",
    "    return sg.Window('RPG', layout=layout, finalize=True)\n",
    "\n",
    "\n",
    "#Criar a janelas\n",
    "janela1 = janela_1()\n",
    "\n",
    "#Criar um loop de leitura de eventos\n",
    "while True:\n",
    "    janela,evento,valor = sg.read_all_windows()\n",
    "    \n",
    "    \n",
    "    \n",
    "    if evento == sg.WIN_CLOSED:\n",
    "        janela.close()\n",
    "        break\n",
    "    \n",
    "    \n",
    "    \n",
    "    if evento == 'Combate':\n",
    "        dano = random.randint(0,20)\n",
    "        hp -= dano\n",
    "        popup = sg.Window('Dano', [[sg.T('Calculando dano')],[sg.Yes(s=10, button_text='Continuar')]], disable_close=True).read(close=True)\n",
    "        popup = sg.Window('Dano', [[sg.T(f'Você deu {dano} de dano')],[sg.Yes(s=10, button_text='Continuar')]], disable_close=True).read(close=True)\n",
    "        \n",
    "        if hp <= 0:\n",
    "            janela['vida'].update(f'Parabéns, você derrotou o inimigo!')\n",
    "        else:\n",
    "            janela['vida'].update(f'O hp do inimigo é {hp}')\n",
    "    \n",
    "    \n",
    "    \n",
    "    if evento == 'Fugir':\n",
    "        popup = sg.Window('Continue?', [[sg.T('Você realmente quer fugir?')], [sg.Yes(s=10, button_text='Sim' ), sg.No(s=10, button_text='Não')]], disable_close=True).read(close=True)\n",
    "        res = popup[0]\n",
    "        if res == 'Sim':\n",
    "            sg.popup('Você é um covarde!')\n",
    "            janela.close()\n",
    "            break\n",
    "        else:\n",
    "            pass\n",
    "   \n",
    "        \n",
    "    \n"
   ]
  },
  {
   "attachments": {},
   "cell_type": "markdown",
   "metadata": {},
   "source": [
    "<h1 style='text-align: center;'>\n",
    "    Área de Testes\n",
    "</h1>"
   ]
  },
  {
   "cell_type": "code",
   "execution_count": 9,
   "metadata": {},
   "outputs": [
    {
     "name": "stdout",
     "output_type": "stream",
     "text": [
      "Não\n"
     ]
    }
   ],
   "source": [
    "import PySimpleGUI as sg\n",
    "sg.theme('Reddit')\n",
    "def janela_1():\n",
    "    layout=[\n",
    "        []\n",
    "    ]\n",
    "    return sg.Window('RPG', layout=layout, finalize=True)\n",
    "\n",
    "\n",
    "#Criar a janelas\n",
    "janela1 = janela_1()\n",
    "\n",
    "while True:\n",
    "    janela,evento,valor = sg.read_all_windows()\n",
    "    popup = sg.Window('Continue?', [[sg.T('Você realmente quer fugir?')], [sg.Yes(s=10, button_text='Sim' ), sg.No(s=10, button_text='Não')]], disable_close=True).read(close=True)\n",
    "    res = popup[0]\n",
    "    janela.close()\n",
    "    print(res[0])\n",
    "    break\n",
    "    \n",
    "   \n",
    "        \n",
    "   "
   ]
  }
 ],
 "metadata": {
  "kernelspec": {
   "display_name": "Python 3",
   "language": "python",
   "name": "python3"
  },
  "language_info": {
   "codemirror_mode": {
    "name": "ipython",
    "version": 3
   },
   "file_extension": ".py",
   "mimetype": "text/x-python",
   "name": "python",
   "nbconvert_exporter": "python",
   "pygments_lexer": "ipython3",
   "version": "3.10.2"
  },
  "orig_nbformat": 4
 },
 "nbformat": 4,
 "nbformat_minor": 2
}
